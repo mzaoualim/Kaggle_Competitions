{
  "nbformat": 4,
  "nbformat_minor": 0,
  "metadata": {
    "colab": {
      "provenance": [],
      "toc_visible": true,
      "authorship_tag": "ABX9TyOAVAha2EBq3jD89RLR7rtm",
      "include_colab_link": true
    },
    "kernelspec": {
      "name": "python3",
      "display_name": "Python 3"
    },
    "language_info": {
      "name": "python"
    }
  },
  "cells": [
    {
      "cell_type": "markdown",
      "metadata": {
        "id": "view-in-github",
        "colab_type": "text"
      },
      "source": [
        "<a href=\"https://colab.research.google.com/github/mzaoualim/Kaggle_Competitions/blob/main/kaggle_ICR_full_explainer.ipynb\" target=\"_parent\"><img src=\"https://colab.research.google.com/assets/colab-badge.svg\" alt=\"Open In Colab\"/></a>"
      ]
    },
    {
      "cell_type": "markdown",
      "source": [
        "# Introduction\n",
        "\n",
        "This is a quick/basic notebook explaining the steps and methods used to submit results in the kaggle-ICR competition.\n",
        "\n",
        "More details and richer information is to be found [here](https://www.kaggle.com/competitions/icr-identify-age-related-conditions/overview).\n",
        "\n"
      ],
      "metadata": {
        "id": "PgYt49mMwwhT"
      }
    },
    {
      "cell_type": "markdown",
      "source": [
        "# Loading data from Kaggle"
      ],
      "metadata": {
        "id": "WGlO-kmzw3AY"
      }
    },
    {
      "cell_type": "code",
      "source": [
        "# Getting data from kaggle\n",
        "\n",
        "!pip install -U -q kaggle\n",
        "!mkdir -p ~/.kaggle\n",
        "from google.colab import files\n",
        "files.upload()\n",
        "!cp kaggle.json ~/.kaggle/\n",
        "!kaggle competitions download -c icr-identify-age-related-conditions"
      ],
      "metadata": {
        "id": "rbpWAtrfmo6u",
        "colab": {
          "base_uri": "https://localhost:8080/",
          "height": 164
        },
        "outputId": "eeb9a43f-9a3e-4676-b0fc-03dbe505cf0d"
      },
      "execution_count": 1,
      "outputs": [
        {
          "output_type": "display_data",
          "data": {
            "text/plain": [
              "<IPython.core.display.HTML object>"
            ],
            "text/html": [
              "\n",
              "     <input type=\"file\" id=\"files-0782da09-fc89-4355-a9c8-d911eb45b032\" name=\"files[]\" multiple disabled\n",
              "        style=\"border:none\" />\n",
              "     <output id=\"result-0782da09-fc89-4355-a9c8-d911eb45b032\">\n",
              "      Upload widget is only available when the cell has been executed in the\n",
              "      current browser session. Please rerun this cell to enable.\n",
              "      </output>\n",
              "      <script>// Copyright 2017 Google LLC\n",
              "//\n",
              "// Licensed under the Apache License, Version 2.0 (the \"License\");\n",
              "// you may not use this file except in compliance with the License.\n",
              "// You may obtain a copy of the License at\n",
              "//\n",
              "//      http://www.apache.org/licenses/LICENSE-2.0\n",
              "//\n",
              "// Unless required by applicable law or agreed to in writing, software\n",
              "// distributed under the License is distributed on an \"AS IS\" BASIS,\n",
              "// WITHOUT WARRANTIES OR CONDITIONS OF ANY KIND, either express or implied.\n",
              "// See the License for the specific language governing permissions and\n",
              "// limitations under the License.\n",
              "\n",
              "/**\n",
              " * @fileoverview Helpers for google.colab Python module.\n",
              " */\n",
              "(function(scope) {\n",
              "function span(text, styleAttributes = {}) {\n",
              "  const element = document.createElement('span');\n",
              "  element.textContent = text;\n",
              "  for (const key of Object.keys(styleAttributes)) {\n",
              "    element.style[key] = styleAttributes[key];\n",
              "  }\n",
              "  return element;\n",
              "}\n",
              "\n",
              "// Max number of bytes which will be uploaded at a time.\n",
              "const MAX_PAYLOAD_SIZE = 100 * 1024;\n",
              "\n",
              "function _uploadFiles(inputId, outputId) {\n",
              "  const steps = uploadFilesStep(inputId, outputId);\n",
              "  const outputElement = document.getElementById(outputId);\n",
              "  // Cache steps on the outputElement to make it available for the next call\n",
              "  // to uploadFilesContinue from Python.\n",
              "  outputElement.steps = steps;\n",
              "\n",
              "  return _uploadFilesContinue(outputId);\n",
              "}\n",
              "\n",
              "// This is roughly an async generator (not supported in the browser yet),\n",
              "// where there are multiple asynchronous steps and the Python side is going\n",
              "// to poll for completion of each step.\n",
              "// This uses a Promise to block the python side on completion of each step,\n",
              "// then passes the result of the previous step as the input to the next step.\n",
              "function _uploadFilesContinue(outputId) {\n",
              "  const outputElement = document.getElementById(outputId);\n",
              "  const steps = outputElement.steps;\n",
              "\n",
              "  const next = steps.next(outputElement.lastPromiseValue);\n",
              "  return Promise.resolve(next.value.promise).then((value) => {\n",
              "    // Cache the last promise value to make it available to the next\n",
              "    // step of the generator.\n",
              "    outputElement.lastPromiseValue = value;\n",
              "    return next.value.response;\n",
              "  });\n",
              "}\n",
              "\n",
              "/**\n",
              " * Generator function which is called between each async step of the upload\n",
              " * process.\n",
              " * @param {string} inputId Element ID of the input file picker element.\n",
              " * @param {string} outputId Element ID of the output display.\n",
              " * @return {!Iterable<!Object>} Iterable of next steps.\n",
              " */\n",
              "function* uploadFilesStep(inputId, outputId) {\n",
              "  const inputElement = document.getElementById(inputId);\n",
              "  inputElement.disabled = false;\n",
              "\n",
              "  const outputElement = document.getElementById(outputId);\n",
              "  outputElement.innerHTML = '';\n",
              "\n",
              "  const pickedPromise = new Promise((resolve) => {\n",
              "    inputElement.addEventListener('change', (e) => {\n",
              "      resolve(e.target.files);\n",
              "    });\n",
              "  });\n",
              "\n",
              "  const cancel = document.createElement('button');\n",
              "  inputElement.parentElement.appendChild(cancel);\n",
              "  cancel.textContent = 'Cancel upload';\n",
              "  const cancelPromise = new Promise((resolve) => {\n",
              "    cancel.onclick = () => {\n",
              "      resolve(null);\n",
              "    };\n",
              "  });\n",
              "\n",
              "  // Wait for the user to pick the files.\n",
              "  const files = yield {\n",
              "    promise: Promise.race([pickedPromise, cancelPromise]),\n",
              "    response: {\n",
              "      action: 'starting',\n",
              "    }\n",
              "  };\n",
              "\n",
              "  cancel.remove();\n",
              "\n",
              "  // Disable the input element since further picks are not allowed.\n",
              "  inputElement.disabled = true;\n",
              "\n",
              "  if (!files) {\n",
              "    return {\n",
              "      response: {\n",
              "        action: 'complete',\n",
              "      }\n",
              "    };\n",
              "  }\n",
              "\n",
              "  for (const file of files) {\n",
              "    const li = document.createElement('li');\n",
              "    li.append(span(file.name, {fontWeight: 'bold'}));\n",
              "    li.append(span(\n",
              "        `(${file.type || 'n/a'}) - ${file.size} bytes, ` +\n",
              "        `last modified: ${\n",
              "            file.lastModifiedDate ? file.lastModifiedDate.toLocaleDateString() :\n",
              "                                    'n/a'} - `));\n",
              "    const percent = span('0% done');\n",
              "    li.appendChild(percent);\n",
              "\n",
              "    outputElement.appendChild(li);\n",
              "\n",
              "    const fileDataPromise = new Promise((resolve) => {\n",
              "      const reader = new FileReader();\n",
              "      reader.onload = (e) => {\n",
              "        resolve(e.target.result);\n",
              "      };\n",
              "      reader.readAsArrayBuffer(file);\n",
              "    });\n",
              "    // Wait for the data to be ready.\n",
              "    let fileData = yield {\n",
              "      promise: fileDataPromise,\n",
              "      response: {\n",
              "        action: 'continue',\n",
              "      }\n",
              "    };\n",
              "\n",
              "    // Use a chunked sending to avoid message size limits. See b/62115660.\n",
              "    let position = 0;\n",
              "    do {\n",
              "      const length = Math.min(fileData.byteLength - position, MAX_PAYLOAD_SIZE);\n",
              "      const chunk = new Uint8Array(fileData, position, length);\n",
              "      position += length;\n",
              "\n",
              "      const base64 = btoa(String.fromCharCode.apply(null, chunk));\n",
              "      yield {\n",
              "        response: {\n",
              "          action: 'append',\n",
              "          file: file.name,\n",
              "          data: base64,\n",
              "        },\n",
              "      };\n",
              "\n",
              "      let percentDone = fileData.byteLength === 0 ?\n",
              "          100 :\n",
              "          Math.round((position / fileData.byteLength) * 100);\n",
              "      percent.textContent = `${percentDone}% done`;\n",
              "\n",
              "    } while (position < fileData.byteLength);\n",
              "  }\n",
              "\n",
              "  // All done.\n",
              "  yield {\n",
              "    response: {\n",
              "      action: 'complete',\n",
              "    }\n",
              "  };\n",
              "}\n",
              "\n",
              "scope.google = scope.google || {};\n",
              "scope.google.colab = scope.google.colab || {};\n",
              "scope.google.colab._files = {\n",
              "  _uploadFiles,\n",
              "  _uploadFilesContinue,\n",
              "};\n",
              "})(self);\n",
              "</script> "
            ]
          },
          "metadata": {}
        },
        {
          "output_type": "stream",
          "name": "stdout",
          "text": [
            "Saving kaggle.json to kaggle.json\n",
            "Warning: Your Kaggle API key is readable by other users on this system! To fix this, you can run 'chmod 600 /root/.kaggle/kaggle.json'\n",
            "Downloading icr-identify-age-related-conditions.zip to /content\n",
            "  0% 0.00/150k [00:00<?, ?B/s]\n",
            "100% 150k/150k [00:00<00:00, 112MB/s]\n"
          ]
        }
      ]
    },
    {
      "cell_type": "code",
      "source": [
        "# Decompressing files:\n",
        "\n",
        "!unzip '/content/icr-identify-age-related-conditions.zip'"
      ],
      "metadata": {
        "colab": {
          "base_uri": "https://localhost:8080/"
        },
        "id": "EIxLNYrAnPDR",
        "outputId": "bdc74a80-be4e-4428-d7c8-c38a5a9c761b"
      },
      "execution_count": 2,
      "outputs": [
        {
          "output_type": "stream",
          "name": "stdout",
          "text": [
            "Archive:  /content/icr-identify-age-related-conditions.zip\n",
            "  inflating: greeks.csv              \n",
            "  inflating: sample_submission.csv   \n",
            "  inflating: test.csv                \n",
            "  inflating: train.csv               \n"
          ]
        }
      ]
    },
    {
      "cell_type": "markdown",
      "source": [
        "# Modules"
      ],
      "metadata": {
        "id": "wBAzuSNPfP_T"
      }
    },
    {
      "cell_type": "code",
      "source": [
        "# Importing the necessary libraries\n",
        "import pandas as pd\n",
        "import numpy as np\n",
        "import seaborn as sns\n",
        "import matplotlib.pyplot  as plt\n",
        "from sklearn.preprocessing import MinMaxScaler\n",
        "from sklearn.model_selection import train_test_split\n",
        "from sklearn.linear_model import SGDClassifier\n",
        "from sklearn.metrics import log_loss, confusion_matrix, ConfusionMatrixDisplay"
      ],
      "metadata": {
        "id": "_kKiFqe_n1it"
      },
      "execution_count": 3,
      "outputs": []
    },
    {
      "cell_type": "markdown",
      "source": [
        "# Fixed Variables\n"
      ],
      "metadata": {
        "id": "e-nGd4c5fd7K"
      }
    },
    {
      "cell_type": "code",
      "source": [
        "#random_state\n",
        "random_state = 88"
      ],
      "metadata": {
        "id": "Ac3Zyu5KfiH7"
      },
      "execution_count": 4,
      "outputs": []
    },
    {
      "cell_type": "markdown",
      "source": [
        "# EDA"
      ],
      "metadata": {
        "id": "v6_oUeKEnqjd"
      }
    },
    {
      "cell_type": "markdown",
      "source": [
        "Quick peak into the dataset:"
      ],
      "metadata": {
        "id": "wvSoVsrLnt7D"
      }
    },
    {
      "cell_type": "code",
      "source": [
        "train = pd.read_csv('/content/train.csv').set_index('Id')\n",
        "\n",
        "# test = pd.read_csv('/content/test.csv')\n",
        "'''\n",
        "- test file contains only 5 observations and rest as null values.\n",
        "- not very relevent as this is a code competition type.\n",
        "'''\n",
        "\n",
        "# greeks = pd.read_csv('/content/greeks.csv')\n",
        "'''\n",
        "- ignored for the fact that is not provided in the test set.\n",
        "'''"
      ],
      "metadata": {
        "id": "rBqSbuIdntFM"
      },
      "execution_count": null,
      "outputs": []
    },
    {
      "cell_type": "markdown",
      "source": [
        "## Train Dataset"
      ],
      "metadata": {
        "id": "Ow5K6DI3q0Dy"
      }
    },
    {
      "cell_type": "code",
      "source": [
        "train.head()"
      ],
      "metadata": {
        "colab": {
          "base_uri": "https://localhost:8080/",
          "height": 331
        },
        "id": "N1VpOve2qrDy",
        "outputId": "6135f32b-4be3-4297-c18c-fa45e53a5d66"
      },
      "execution_count": 6,
      "outputs": [
        {
          "output_type": "execute_result",
          "data": {
            "text/plain": [
              "                    AB          AF          AH         AM        AR        AX  \\\n",
              "Id                                                                              \n",
              "000ff2bfdfe9  0.209377  3109.03329   85.200147  22.394407  8.138688  0.699861   \n",
              "007255e47698  0.145282   978.76416   85.200147  36.968889  8.138688  3.632190   \n",
              "013f2bd269f5  0.470030  2635.10654   85.200147  32.360553  8.138688  6.732840   \n",
              "043ac50845d5  0.252107  3819.65177  120.201618  77.112203  8.138688  3.685344   \n",
              "044fb8a146ec  0.380297  3733.04844   85.200147  14.103738  8.138688  3.942255   \n",
              "\n",
              "                    AY         AZ          BC         BD   ...        FL  \\\n",
              "Id                                                         ...             \n",
              "000ff2bfdfe9  0.025578   9.812214    5.555634  4126.58731  ...  7.298162   \n",
              "007255e47698  0.025578  13.517790    1.229900  5496.92824  ...  0.173229   \n",
              "013f2bd269f5  0.025578  12.824570    1.229900  5135.78024  ...  7.709560   \n",
              "043ac50845d5  0.025578  11.053708    1.229900  4169.67738  ...  6.122162   \n",
              "044fb8a146ec  0.054810   3.396778  102.151980  5728.73412  ...  8.153058   \n",
              "\n",
              "                    FR        FS         GB          GE            GF  \\\n",
              "Id                                                                      \n",
              "000ff2bfdfe9   1.73855  0.094822  11.339138   72.611063   2003.810319   \n",
              "007255e47698   0.49706  0.568932   9.292698   72.611063  27981.562750   \n",
              "013f2bd269f5   0.97556  1.198821  37.077772   88.609437  13676.957810   \n",
              "043ac50845d5   0.49706  0.284466  18.529584   82.416803   2094.262452   \n",
              "044fb8a146ec  48.50134  0.121914  16.408728  146.109943   8524.370502   \n",
              "\n",
              "                     GH         GI         GL  Class  \n",
              "Id                                                    \n",
              "000ff2bfdfe9  22.136229  69.834944   0.120343      1  \n",
              "007255e47698  29.135430  32.131996  21.978000      0  \n",
              "013f2bd269f5  28.022851  35.192676   0.196941      0  \n",
              "043ac50845d5  39.948656  90.493248   0.155829      0  \n",
              "044fb8a146ec  45.381316  36.262628   0.096614      1  \n",
              "\n",
              "[5 rows x 57 columns]"
            ],
            "text/html": [
              "\n",
              "  <div id=\"df-e9a6ca14-2145-48a4-8fbb-85fc7d2e1250\">\n",
              "    <div class=\"colab-df-container\">\n",
              "      <div>\n",
              "<style scoped>\n",
              "    .dataframe tbody tr th:only-of-type {\n",
              "        vertical-align: middle;\n",
              "    }\n",
              "\n",
              "    .dataframe tbody tr th {\n",
              "        vertical-align: top;\n",
              "    }\n",
              "\n",
              "    .dataframe thead th {\n",
              "        text-align: right;\n",
              "    }\n",
              "</style>\n",
              "<table border=\"1\" class=\"dataframe\">\n",
              "  <thead>\n",
              "    <tr style=\"text-align: right;\">\n",
              "      <th></th>\n",
              "      <th>AB</th>\n",
              "      <th>AF</th>\n",
              "      <th>AH</th>\n",
              "      <th>AM</th>\n",
              "      <th>AR</th>\n",
              "      <th>AX</th>\n",
              "      <th>AY</th>\n",
              "      <th>AZ</th>\n",
              "      <th>BC</th>\n",
              "      <th>BD</th>\n",
              "      <th>...</th>\n",
              "      <th>FL</th>\n",
              "      <th>FR</th>\n",
              "      <th>FS</th>\n",
              "      <th>GB</th>\n",
              "      <th>GE</th>\n",
              "      <th>GF</th>\n",
              "      <th>GH</th>\n",
              "      <th>GI</th>\n",
              "      <th>GL</th>\n",
              "      <th>Class</th>\n",
              "    </tr>\n",
              "    <tr>\n",
              "      <th>Id</th>\n",
              "      <th></th>\n",
              "      <th></th>\n",
              "      <th></th>\n",
              "      <th></th>\n",
              "      <th></th>\n",
              "      <th></th>\n",
              "      <th></th>\n",
              "      <th></th>\n",
              "      <th></th>\n",
              "      <th></th>\n",
              "      <th></th>\n",
              "      <th></th>\n",
              "      <th></th>\n",
              "      <th></th>\n",
              "      <th></th>\n",
              "      <th></th>\n",
              "      <th></th>\n",
              "      <th></th>\n",
              "      <th></th>\n",
              "      <th></th>\n",
              "      <th></th>\n",
              "    </tr>\n",
              "  </thead>\n",
              "  <tbody>\n",
              "    <tr>\n",
              "      <th>000ff2bfdfe9</th>\n",
              "      <td>0.209377</td>\n",
              "      <td>3109.03329</td>\n",
              "      <td>85.200147</td>\n",
              "      <td>22.394407</td>\n",
              "      <td>8.138688</td>\n",
              "      <td>0.699861</td>\n",
              "      <td>0.025578</td>\n",
              "      <td>9.812214</td>\n",
              "      <td>5.555634</td>\n",
              "      <td>4126.58731</td>\n",
              "      <td>...</td>\n",
              "      <td>7.298162</td>\n",
              "      <td>1.73855</td>\n",
              "      <td>0.094822</td>\n",
              "      <td>11.339138</td>\n",
              "      <td>72.611063</td>\n",
              "      <td>2003.810319</td>\n",
              "      <td>22.136229</td>\n",
              "      <td>69.834944</td>\n",
              "      <td>0.120343</td>\n",
              "      <td>1</td>\n",
              "    </tr>\n",
              "    <tr>\n",
              "      <th>007255e47698</th>\n",
              "      <td>0.145282</td>\n",
              "      <td>978.76416</td>\n",
              "      <td>85.200147</td>\n",
              "      <td>36.968889</td>\n",
              "      <td>8.138688</td>\n",
              "      <td>3.632190</td>\n",
              "      <td>0.025578</td>\n",
              "      <td>13.517790</td>\n",
              "      <td>1.229900</td>\n",
              "      <td>5496.92824</td>\n",
              "      <td>...</td>\n",
              "      <td>0.173229</td>\n",
              "      <td>0.49706</td>\n",
              "      <td>0.568932</td>\n",
              "      <td>9.292698</td>\n",
              "      <td>72.611063</td>\n",
              "      <td>27981.562750</td>\n",
              "      <td>29.135430</td>\n",
              "      <td>32.131996</td>\n",
              "      <td>21.978000</td>\n",
              "      <td>0</td>\n",
              "    </tr>\n",
              "    <tr>\n",
              "      <th>013f2bd269f5</th>\n",
              "      <td>0.470030</td>\n",
              "      <td>2635.10654</td>\n",
              "      <td>85.200147</td>\n",
              "      <td>32.360553</td>\n",
              "      <td>8.138688</td>\n",
              "      <td>6.732840</td>\n",
              "      <td>0.025578</td>\n",
              "      <td>12.824570</td>\n",
              "      <td>1.229900</td>\n",
              "      <td>5135.78024</td>\n",
              "      <td>...</td>\n",
              "      <td>7.709560</td>\n",
              "      <td>0.97556</td>\n",
              "      <td>1.198821</td>\n",
              "      <td>37.077772</td>\n",
              "      <td>88.609437</td>\n",
              "      <td>13676.957810</td>\n",
              "      <td>28.022851</td>\n",
              "      <td>35.192676</td>\n",
              "      <td>0.196941</td>\n",
              "      <td>0</td>\n",
              "    </tr>\n",
              "    <tr>\n",
              "      <th>043ac50845d5</th>\n",
              "      <td>0.252107</td>\n",
              "      <td>3819.65177</td>\n",
              "      <td>120.201618</td>\n",
              "      <td>77.112203</td>\n",
              "      <td>8.138688</td>\n",
              "      <td>3.685344</td>\n",
              "      <td>0.025578</td>\n",
              "      <td>11.053708</td>\n",
              "      <td>1.229900</td>\n",
              "      <td>4169.67738</td>\n",
              "      <td>...</td>\n",
              "      <td>6.122162</td>\n",
              "      <td>0.49706</td>\n",
              "      <td>0.284466</td>\n",
              "      <td>18.529584</td>\n",
              "      <td>82.416803</td>\n",
              "      <td>2094.262452</td>\n",
              "      <td>39.948656</td>\n",
              "      <td>90.493248</td>\n",
              "      <td>0.155829</td>\n",
              "      <td>0</td>\n",
              "    </tr>\n",
              "    <tr>\n",
              "      <th>044fb8a146ec</th>\n",
              "      <td>0.380297</td>\n",
              "      <td>3733.04844</td>\n",
              "      <td>85.200147</td>\n",
              "      <td>14.103738</td>\n",
              "      <td>8.138688</td>\n",
              "      <td>3.942255</td>\n",
              "      <td>0.054810</td>\n",
              "      <td>3.396778</td>\n",
              "      <td>102.151980</td>\n",
              "      <td>5728.73412</td>\n",
              "      <td>...</td>\n",
              "      <td>8.153058</td>\n",
              "      <td>48.50134</td>\n",
              "      <td>0.121914</td>\n",
              "      <td>16.408728</td>\n",
              "      <td>146.109943</td>\n",
              "      <td>8524.370502</td>\n",
              "      <td>45.381316</td>\n",
              "      <td>36.262628</td>\n",
              "      <td>0.096614</td>\n",
              "      <td>1</td>\n",
              "    </tr>\n",
              "  </tbody>\n",
              "</table>\n",
              "<p>5 rows × 57 columns</p>\n",
              "</div>\n",
              "      <button class=\"colab-df-convert\" onclick=\"convertToInteractive('df-e9a6ca14-2145-48a4-8fbb-85fc7d2e1250')\"\n",
              "              title=\"Convert this dataframe to an interactive table.\"\n",
              "              style=\"display:none;\">\n",
              "        \n",
              "  <svg xmlns=\"http://www.w3.org/2000/svg\" height=\"24px\"viewBox=\"0 0 24 24\"\n",
              "       width=\"24px\">\n",
              "    <path d=\"M0 0h24v24H0V0z\" fill=\"none\"/>\n",
              "    <path d=\"M18.56 5.44l.94 2.06.94-2.06 2.06-.94-2.06-.94-.94-2.06-.94 2.06-2.06.94zm-11 1L8.5 8.5l.94-2.06 2.06-.94-2.06-.94L8.5 2.5l-.94 2.06-2.06.94zm10 10l.94 2.06.94-2.06 2.06-.94-2.06-.94-.94-2.06-.94 2.06-2.06.94z\"/><path d=\"M17.41 7.96l-1.37-1.37c-.4-.4-.92-.59-1.43-.59-.52 0-1.04.2-1.43.59L10.3 9.45l-7.72 7.72c-.78.78-.78 2.05 0 2.83L4 21.41c.39.39.9.59 1.41.59.51 0 1.02-.2 1.41-.59l7.78-7.78 2.81-2.81c.8-.78.8-2.07 0-2.86zM5.41 20L4 18.59l7.72-7.72 1.47 1.35L5.41 20z\"/>\n",
              "  </svg>\n",
              "      </button>\n",
              "      \n",
              "  <style>\n",
              "    .colab-df-container {\n",
              "      display:flex;\n",
              "      flex-wrap:wrap;\n",
              "      gap: 12px;\n",
              "    }\n",
              "\n",
              "    .colab-df-convert {\n",
              "      background-color: #E8F0FE;\n",
              "      border: none;\n",
              "      border-radius: 50%;\n",
              "      cursor: pointer;\n",
              "      display: none;\n",
              "      fill: #1967D2;\n",
              "      height: 32px;\n",
              "      padding: 0 0 0 0;\n",
              "      width: 32px;\n",
              "    }\n",
              "\n",
              "    .colab-df-convert:hover {\n",
              "      background-color: #E2EBFA;\n",
              "      box-shadow: 0px 1px 2px rgba(60, 64, 67, 0.3), 0px 1px 3px 1px rgba(60, 64, 67, 0.15);\n",
              "      fill: #174EA6;\n",
              "    }\n",
              "\n",
              "    [theme=dark] .colab-df-convert {\n",
              "      background-color: #3B4455;\n",
              "      fill: #D2E3FC;\n",
              "    }\n",
              "\n",
              "    [theme=dark] .colab-df-convert:hover {\n",
              "      background-color: #434B5C;\n",
              "      box-shadow: 0px 1px 3px 1px rgba(0, 0, 0, 0.15);\n",
              "      filter: drop-shadow(0px 1px 2px rgba(0, 0, 0, 0.3));\n",
              "      fill: #FFFFFF;\n",
              "    }\n",
              "  </style>\n",
              "\n",
              "      <script>\n",
              "        const buttonEl =\n",
              "          document.querySelector('#df-e9a6ca14-2145-48a4-8fbb-85fc7d2e1250 button.colab-df-convert');\n",
              "        buttonEl.style.display =\n",
              "          google.colab.kernel.accessAllowed ? 'block' : 'none';\n",
              "\n",
              "        async function convertToInteractive(key) {\n",
              "          const element = document.querySelector('#df-e9a6ca14-2145-48a4-8fbb-85fc7d2e1250');\n",
              "          const dataTable =\n",
              "            await google.colab.kernel.invokeFunction('convertToInteractive',\n",
              "                                                     [key], {});\n",
              "          if (!dataTable) return;\n",
              "\n",
              "          const docLinkHtml = 'Like what you see? Visit the ' +\n",
              "            '<a target=\"_blank\" href=https://colab.research.google.com/notebooks/data_table.ipynb>data table notebook</a>'\n",
              "            + ' to learn more about interactive tables.';\n",
              "          element.innerHTML = '';\n",
              "          dataTable['output_type'] = 'display_data';\n",
              "          await google.colab.output.renderOutput(dataTable, element);\n",
              "          const docLink = document.createElement('div');\n",
              "          docLink.innerHTML = docLinkHtml;\n",
              "          element.appendChild(docLink);\n",
              "        }\n",
              "      </script>\n",
              "    </div>\n",
              "  </div>\n",
              "  "
            ]
          },
          "metadata": {},
          "execution_count": 6
        }
      ]
    },
    {
      "cell_type": "code",
      "source": [
        "train.columns"
      ],
      "metadata": {
        "colab": {
          "base_uri": "https://localhost:8080/"
        },
        "id": "FH8OlhHJuouB",
        "outputId": "fc3add0c-393b-40f3-bd56-aa1ef0ab764a"
      },
      "execution_count": 7,
      "outputs": [
        {
          "output_type": "execute_result",
          "data": {
            "text/plain": [
              "Index(['AB', 'AF', 'AH', 'AM', 'AR', 'AX', 'AY', 'AZ', 'BC', 'BD ', 'BN', 'BP',\n",
              "       'BQ', 'BR', 'BZ', 'CB', 'CC', 'CD ', 'CF', 'CH', 'CL', 'CR', 'CS', 'CU',\n",
              "       'CW ', 'DA', 'DE', 'DF', 'DH', 'DI', 'DL', 'DN', 'DU', 'DV', 'DY', 'EB',\n",
              "       'EE', 'EG', 'EH', 'EJ', 'EL', 'EP', 'EU', 'FC', 'FD ', 'FE', 'FI', 'FL',\n",
              "       'FR', 'FS', 'GB', 'GE', 'GF', 'GH', 'GI', 'GL', 'Class'],\n",
              "      dtype='object')"
            ]
          },
          "metadata": {},
          "execution_count": 7
        }
      ]
    },
    {
      "cell_type": "code",
      "source": [
        "train.dtypes.value_counts()"
      ],
      "metadata": {
        "colab": {
          "base_uri": "https://localhost:8080/"
        },
        "id": "o90QpB-Aq4jm",
        "outputId": "f9529ebb-c583-4cc1-da08-e3ae244709ea"
      },
      "execution_count": 8,
      "outputs": [
        {
          "output_type": "execute_result",
          "data": {
            "text/plain": [
              "float64    55\n",
              "object      1\n",
              "int64       1\n",
              "dtype: int64"
            ]
          },
          "metadata": {},
          "execution_count": 8
        }
      ]
    },
    {
      "cell_type": "code",
      "source": [
        "# main descriptive stats\n",
        "train.describe()"
      ],
      "metadata": {
        "colab": {
          "base_uri": "https://localhost:8080/",
          "height": 394
        },
        "id": "WT-VUCAFzj8Z",
        "outputId": "981cafa0-28ae-4ffc-fc5f-24cec31e446f"
      },
      "execution_count": 9,
      "outputs": [
        {
          "output_type": "execute_result",
          "data": {
            "text/plain": [
              "               AB            AF           AH          AM          AR  \\\n",
              "count  617.000000    617.000000   617.000000  617.000000  617.000000   \n",
              "mean     0.477149   3502.013221   118.624513   38.968552   10.128242   \n",
              "std      0.468388   2300.322717   127.838950   69.728226   10.518877   \n",
              "min      0.081187    192.593280    85.200147    3.177522    8.138688   \n",
              "25%      0.252107   2197.345480    85.200147   12.270314    8.138688   \n",
              "50%      0.354659   3120.318960    85.200147   20.533110    8.138688   \n",
              "75%      0.559763   4361.637390   113.739540   39.139886    8.138688   \n",
              "max      6.161666  28688.187660  1910.123198  630.518230  178.943634   \n",
              "\n",
              "               AX          AY          AZ           BC           BD   ...  \\\n",
              "count  617.000000  617.000000  617.000000   617.000000    617.000000  ...   \n",
              "mean     5.545576    0.060320   10.566447     8.053012   5350.388655  ...   \n",
              "std      2.551696    0.416817    4.350645    65.166943   3021.326641  ...   \n",
              "min      0.699861    0.025578    3.396778     1.229900   1693.624320  ...   \n",
              "25%      4.128294    0.025578    8.129580     1.229900   4155.702870  ...   \n",
              "50%      5.031912    0.025578   10.461320     1.229900   4997.960730  ...   \n",
              "75%      6.431634    0.036845   12.969516     5.081244   6035.885700  ...   \n",
              "max     38.270880   10.315851   38.971568  1463.693448  53060.599240  ...   \n",
              "\n",
              "               FL           FR          FS          GB           GE  \\\n",
              "count  616.000000   617.000000  615.000000  617.000000   617.000000   \n",
              "mean     5.433199     3.533905    0.421501   20.724856   131.714987   \n",
              "std     11.496257    50.181948    1.305365    9.991907   144.181524   \n",
              "min      0.173229     0.497060    0.067730    4.102182    72.611063   \n",
              "25%      0.173229     0.497060    0.067730   14.036718    72.611063   \n",
              "50%      3.028141     1.131000    0.250601   18.771436    72.611063   \n",
              "75%      6.238814     1.512060    0.535067   25.608406   127.591671   \n",
              "max    137.932739  1244.227020   31.365763  135.781294  1497.351958   \n",
              "\n",
              "                  GF          GH          GI          GL       Class  \n",
              "count     617.000000  617.000000  617.000000  616.000000  617.000000  \n",
              "mean    14679.595398   31.489716   50.584437    8.530961    0.175041  \n",
              "std     19352.959387    9.864239   36.266251   10.327010    0.380310  \n",
              "min        13.038894    9.432735    0.897628    0.001129    0.000000  \n",
              "25%      2798.992584   25.034888   23.011684    0.124392    0.000000  \n",
              "50%      7838.273610   30.608946   41.007968    0.337827    0.000000  \n",
              "75%     19035.709240   36.863947   67.931664   21.978000    0.000000  \n",
              "max    143790.071200   81.210825  191.194764   21.978000    1.000000  \n",
              "\n",
              "[8 rows x 56 columns]"
            ],
            "text/html": [
              "\n",
              "  <div id=\"df-1c0e88aa-0992-49a5-bb9e-ba523a456a0b\">\n",
              "    <div class=\"colab-df-container\">\n",
              "      <div>\n",
              "<style scoped>\n",
              "    .dataframe tbody tr th:only-of-type {\n",
              "        vertical-align: middle;\n",
              "    }\n",
              "\n",
              "    .dataframe tbody tr th {\n",
              "        vertical-align: top;\n",
              "    }\n",
              "\n",
              "    .dataframe thead th {\n",
              "        text-align: right;\n",
              "    }\n",
              "</style>\n",
              "<table border=\"1\" class=\"dataframe\">\n",
              "  <thead>\n",
              "    <tr style=\"text-align: right;\">\n",
              "      <th></th>\n",
              "      <th>AB</th>\n",
              "      <th>AF</th>\n",
              "      <th>AH</th>\n",
              "      <th>AM</th>\n",
              "      <th>AR</th>\n",
              "      <th>AX</th>\n",
              "      <th>AY</th>\n",
              "      <th>AZ</th>\n",
              "      <th>BC</th>\n",
              "      <th>BD</th>\n",
              "      <th>...</th>\n",
              "      <th>FL</th>\n",
              "      <th>FR</th>\n",
              "      <th>FS</th>\n",
              "      <th>GB</th>\n",
              "      <th>GE</th>\n",
              "      <th>GF</th>\n",
              "      <th>GH</th>\n",
              "      <th>GI</th>\n",
              "      <th>GL</th>\n",
              "      <th>Class</th>\n",
              "    </tr>\n",
              "  </thead>\n",
              "  <tbody>\n",
              "    <tr>\n",
              "      <th>count</th>\n",
              "      <td>617.000000</td>\n",
              "      <td>617.000000</td>\n",
              "      <td>617.000000</td>\n",
              "      <td>617.000000</td>\n",
              "      <td>617.000000</td>\n",
              "      <td>617.000000</td>\n",
              "      <td>617.000000</td>\n",
              "      <td>617.000000</td>\n",
              "      <td>617.000000</td>\n",
              "      <td>617.000000</td>\n",
              "      <td>...</td>\n",
              "      <td>616.000000</td>\n",
              "      <td>617.000000</td>\n",
              "      <td>615.000000</td>\n",
              "      <td>617.000000</td>\n",
              "      <td>617.000000</td>\n",
              "      <td>617.000000</td>\n",
              "      <td>617.000000</td>\n",
              "      <td>617.000000</td>\n",
              "      <td>616.000000</td>\n",
              "      <td>617.000000</td>\n",
              "    </tr>\n",
              "    <tr>\n",
              "      <th>mean</th>\n",
              "      <td>0.477149</td>\n",
              "      <td>3502.013221</td>\n",
              "      <td>118.624513</td>\n",
              "      <td>38.968552</td>\n",
              "      <td>10.128242</td>\n",
              "      <td>5.545576</td>\n",
              "      <td>0.060320</td>\n",
              "      <td>10.566447</td>\n",
              "      <td>8.053012</td>\n",
              "      <td>5350.388655</td>\n",
              "      <td>...</td>\n",
              "      <td>5.433199</td>\n",
              "      <td>3.533905</td>\n",
              "      <td>0.421501</td>\n",
              "      <td>20.724856</td>\n",
              "      <td>131.714987</td>\n",
              "      <td>14679.595398</td>\n",
              "      <td>31.489716</td>\n",
              "      <td>50.584437</td>\n",
              "      <td>8.530961</td>\n",
              "      <td>0.175041</td>\n",
              "    </tr>\n",
              "    <tr>\n",
              "      <th>std</th>\n",
              "      <td>0.468388</td>\n",
              "      <td>2300.322717</td>\n",
              "      <td>127.838950</td>\n",
              "      <td>69.728226</td>\n",
              "      <td>10.518877</td>\n",
              "      <td>2.551696</td>\n",
              "      <td>0.416817</td>\n",
              "      <td>4.350645</td>\n",
              "      <td>65.166943</td>\n",
              "      <td>3021.326641</td>\n",
              "      <td>...</td>\n",
              "      <td>11.496257</td>\n",
              "      <td>50.181948</td>\n",
              "      <td>1.305365</td>\n",
              "      <td>9.991907</td>\n",
              "      <td>144.181524</td>\n",
              "      <td>19352.959387</td>\n",
              "      <td>9.864239</td>\n",
              "      <td>36.266251</td>\n",
              "      <td>10.327010</td>\n",
              "      <td>0.380310</td>\n",
              "    </tr>\n",
              "    <tr>\n",
              "      <th>min</th>\n",
              "      <td>0.081187</td>\n",
              "      <td>192.593280</td>\n",
              "      <td>85.200147</td>\n",
              "      <td>3.177522</td>\n",
              "      <td>8.138688</td>\n",
              "      <td>0.699861</td>\n",
              "      <td>0.025578</td>\n",
              "      <td>3.396778</td>\n",
              "      <td>1.229900</td>\n",
              "      <td>1693.624320</td>\n",
              "      <td>...</td>\n",
              "      <td>0.173229</td>\n",
              "      <td>0.497060</td>\n",
              "      <td>0.067730</td>\n",
              "      <td>4.102182</td>\n",
              "      <td>72.611063</td>\n",
              "      <td>13.038894</td>\n",
              "      <td>9.432735</td>\n",
              "      <td>0.897628</td>\n",
              "      <td>0.001129</td>\n",
              "      <td>0.000000</td>\n",
              "    </tr>\n",
              "    <tr>\n",
              "      <th>25%</th>\n",
              "      <td>0.252107</td>\n",
              "      <td>2197.345480</td>\n",
              "      <td>85.200147</td>\n",
              "      <td>12.270314</td>\n",
              "      <td>8.138688</td>\n",
              "      <td>4.128294</td>\n",
              "      <td>0.025578</td>\n",
              "      <td>8.129580</td>\n",
              "      <td>1.229900</td>\n",
              "      <td>4155.702870</td>\n",
              "      <td>...</td>\n",
              "      <td>0.173229</td>\n",
              "      <td>0.497060</td>\n",
              "      <td>0.067730</td>\n",
              "      <td>14.036718</td>\n",
              "      <td>72.611063</td>\n",
              "      <td>2798.992584</td>\n",
              "      <td>25.034888</td>\n",
              "      <td>23.011684</td>\n",
              "      <td>0.124392</td>\n",
              "      <td>0.000000</td>\n",
              "    </tr>\n",
              "    <tr>\n",
              "      <th>50%</th>\n",
              "      <td>0.354659</td>\n",
              "      <td>3120.318960</td>\n",
              "      <td>85.200147</td>\n",
              "      <td>20.533110</td>\n",
              "      <td>8.138688</td>\n",
              "      <td>5.031912</td>\n",
              "      <td>0.025578</td>\n",
              "      <td>10.461320</td>\n",
              "      <td>1.229900</td>\n",
              "      <td>4997.960730</td>\n",
              "      <td>...</td>\n",
              "      <td>3.028141</td>\n",
              "      <td>1.131000</td>\n",
              "      <td>0.250601</td>\n",
              "      <td>18.771436</td>\n",
              "      <td>72.611063</td>\n",
              "      <td>7838.273610</td>\n",
              "      <td>30.608946</td>\n",
              "      <td>41.007968</td>\n",
              "      <td>0.337827</td>\n",
              "      <td>0.000000</td>\n",
              "    </tr>\n",
              "    <tr>\n",
              "      <th>75%</th>\n",
              "      <td>0.559763</td>\n",
              "      <td>4361.637390</td>\n",
              "      <td>113.739540</td>\n",
              "      <td>39.139886</td>\n",
              "      <td>8.138688</td>\n",
              "      <td>6.431634</td>\n",
              "      <td>0.036845</td>\n",
              "      <td>12.969516</td>\n",
              "      <td>5.081244</td>\n",
              "      <td>6035.885700</td>\n",
              "      <td>...</td>\n",
              "      <td>6.238814</td>\n",
              "      <td>1.512060</td>\n",
              "      <td>0.535067</td>\n",
              "      <td>25.608406</td>\n",
              "      <td>127.591671</td>\n",
              "      <td>19035.709240</td>\n",
              "      <td>36.863947</td>\n",
              "      <td>67.931664</td>\n",
              "      <td>21.978000</td>\n",
              "      <td>0.000000</td>\n",
              "    </tr>\n",
              "    <tr>\n",
              "      <th>max</th>\n",
              "      <td>6.161666</td>\n",
              "      <td>28688.187660</td>\n",
              "      <td>1910.123198</td>\n",
              "      <td>630.518230</td>\n",
              "      <td>178.943634</td>\n",
              "      <td>38.270880</td>\n",
              "      <td>10.315851</td>\n",
              "      <td>38.971568</td>\n",
              "      <td>1463.693448</td>\n",
              "      <td>53060.599240</td>\n",
              "      <td>...</td>\n",
              "      <td>137.932739</td>\n",
              "      <td>1244.227020</td>\n",
              "      <td>31.365763</td>\n",
              "      <td>135.781294</td>\n",
              "      <td>1497.351958</td>\n",
              "      <td>143790.071200</td>\n",
              "      <td>81.210825</td>\n",
              "      <td>191.194764</td>\n",
              "      <td>21.978000</td>\n",
              "      <td>1.000000</td>\n",
              "    </tr>\n",
              "  </tbody>\n",
              "</table>\n",
              "<p>8 rows × 56 columns</p>\n",
              "</div>\n",
              "      <button class=\"colab-df-convert\" onclick=\"convertToInteractive('df-1c0e88aa-0992-49a5-bb9e-ba523a456a0b')\"\n",
              "              title=\"Convert this dataframe to an interactive table.\"\n",
              "              style=\"display:none;\">\n",
              "        \n",
              "  <svg xmlns=\"http://www.w3.org/2000/svg\" height=\"24px\"viewBox=\"0 0 24 24\"\n",
              "       width=\"24px\">\n",
              "    <path d=\"M0 0h24v24H0V0z\" fill=\"none\"/>\n",
              "    <path d=\"M18.56 5.44l.94 2.06.94-2.06 2.06-.94-2.06-.94-.94-2.06-.94 2.06-2.06.94zm-11 1L8.5 8.5l.94-2.06 2.06-.94-2.06-.94L8.5 2.5l-.94 2.06-2.06.94zm10 10l.94 2.06.94-2.06 2.06-.94-2.06-.94-.94-2.06-.94 2.06-2.06.94z\"/><path d=\"M17.41 7.96l-1.37-1.37c-.4-.4-.92-.59-1.43-.59-.52 0-1.04.2-1.43.59L10.3 9.45l-7.72 7.72c-.78.78-.78 2.05 0 2.83L4 21.41c.39.39.9.59 1.41.59.51 0 1.02-.2 1.41-.59l7.78-7.78 2.81-2.81c.8-.78.8-2.07 0-2.86zM5.41 20L4 18.59l7.72-7.72 1.47 1.35L5.41 20z\"/>\n",
              "  </svg>\n",
              "      </button>\n",
              "      \n",
              "  <style>\n",
              "    .colab-df-container {\n",
              "      display:flex;\n",
              "      flex-wrap:wrap;\n",
              "      gap: 12px;\n",
              "    }\n",
              "\n",
              "    .colab-df-convert {\n",
              "      background-color: #E8F0FE;\n",
              "      border: none;\n",
              "      border-radius: 50%;\n",
              "      cursor: pointer;\n",
              "      display: none;\n",
              "      fill: #1967D2;\n",
              "      height: 32px;\n",
              "      padding: 0 0 0 0;\n",
              "      width: 32px;\n",
              "    }\n",
              "\n",
              "    .colab-df-convert:hover {\n",
              "      background-color: #E2EBFA;\n",
              "      box-shadow: 0px 1px 2px rgba(60, 64, 67, 0.3), 0px 1px 3px 1px rgba(60, 64, 67, 0.15);\n",
              "      fill: #174EA6;\n",
              "    }\n",
              "\n",
              "    [theme=dark] .colab-df-convert {\n",
              "      background-color: #3B4455;\n",
              "      fill: #D2E3FC;\n",
              "    }\n",
              "\n",
              "    [theme=dark] .colab-df-convert:hover {\n",
              "      background-color: #434B5C;\n",
              "      box-shadow: 0px 1px 3px 1px rgba(0, 0, 0, 0.15);\n",
              "      filter: drop-shadow(0px 1px 2px rgba(0, 0, 0, 0.3));\n",
              "      fill: #FFFFFF;\n",
              "    }\n",
              "  </style>\n",
              "\n",
              "      <script>\n",
              "        const buttonEl =\n",
              "          document.querySelector('#df-1c0e88aa-0992-49a5-bb9e-ba523a456a0b button.colab-df-convert');\n",
              "        buttonEl.style.display =\n",
              "          google.colab.kernel.accessAllowed ? 'block' : 'none';\n",
              "\n",
              "        async function convertToInteractive(key) {\n",
              "          const element = document.querySelector('#df-1c0e88aa-0992-49a5-bb9e-ba523a456a0b');\n",
              "          const dataTable =\n",
              "            await google.colab.kernel.invokeFunction('convertToInteractive',\n",
              "                                                     [key], {});\n",
              "          if (!dataTable) return;\n",
              "\n",
              "          const docLinkHtml = 'Like what you see? Visit the ' +\n",
              "            '<a target=\"_blank\" href=https://colab.research.google.com/notebooks/data_table.ipynb>data table notebook</a>'\n",
              "            + ' to learn more about interactive tables.';\n",
              "          element.innerHTML = '';\n",
              "          dataTable['output_type'] = 'display_data';\n",
              "          await google.colab.output.renderOutput(dataTable, element);\n",
              "          const docLink = document.createElement('div');\n",
              "          docLink.innerHTML = docLinkHtml;\n",
              "          element.appendChild(docLink);\n",
              "        }\n",
              "      </script>\n",
              "    </div>\n",
              "  </div>\n",
              "  "
            ]
          },
          "metadata": {},
          "execution_count": 9
        }
      ]
    },
    {
      "cell_type": "markdown",
      "source": [
        "### Correlation Analysis"
      ],
      "metadata": {
        "id": "llO9_7-gw5uj"
      }
    },
    {
      "cell_type": "code",
      "source": [
        "corr = train.corr()\n",
        "# creating mask to remove upper right triangle\n",
        "mask = np.triu(np.ones_like(corr))\n",
        "sns.heatmap(corr, mask=mask)"
      ],
      "metadata": {
        "colab": {
          "base_uri": "https://localhost:8080/",
          "height": 519
        },
        "id": "VVsFz4yhrAxd",
        "outputId": "cc632750-15cc-4e3b-d823-7704aa3ec3fd"
      },
      "execution_count": 10,
      "outputs": [
        {
          "output_type": "stream",
          "name": "stderr",
          "text": [
            "<ipython-input-10-e67b653b447e>:1: FutureWarning: The default value of numeric_only in DataFrame.corr is deprecated. In a future version, it will default to False. Select only valid columns or specify the value of numeric_only to silence this warning.\n",
            "  corr = train.corr()\n"
          ]
        },
        {
          "output_type": "execute_result",
          "data": {
            "text/plain": [
              "<Axes: >"
            ]
          },
          "metadata": {},
          "execution_count": 10
        },
        {
          "output_type": "display_data",
          "data": {
            "text/plain": [
              "<Figure size 640x480 with 2 Axes>"
            ],
            "image/png": "[encoded data removed]"
          },
          "metadata": {}
        }
      ]
    },
    {
      "cell_type": "code",
      "source": [
        "# filtring correlation values for highest (-+.5)\n",
        "filtred_corr = corr[((corr >= .5) | (corr <= -.5)) & (corr !=1.000)]\n",
        "sns.heatmap(filtred_corr, annot=False, cmap=\"Reds\", mask=mask)"
      ],
      "metadata": {
        "colab": {
          "base_uri": "https://localhost:8080/",
          "height": 464
        },
        "id": "uVT0Ra8YrArz",
        "outputId": "a7232471-ef2a-434b-c070-062a5d85eb13"
      },
      "execution_count": 11,
      "outputs": [
        {
          "output_type": "execute_result",
          "data": {
            "text/plain": [
              "<Axes: >"
            ]
          },
          "metadata": {},
          "execution_count": 11
        },
        {
          "output_type": "display_data",
          "data": {
            "text/plain": [
              "<Figure size 640x480 with 2 Axes>"
            ],
            "image/png": "[encoded data removed]"
          },
          "metadata": {}
        }
      ]
    },
    {
      "cell_type": "markdown",
      "source": [
        "Very fiew hot spot of hight correlated (+/-) variables."
      ],
      "metadata": {
        "id": "U17pQv0Nw-65"
      }
    },
    {
      "cell_type": "markdown",
      "source": [
        "### Target Variable"
      ],
      "metadata": {
        "id": "aBOGZ6hJyoK8"
      }
    },
    {
      "cell_type": "code",
      "source": [
        "# Balanced?\n",
        "train['Class'].value_counts()"
      ],
      "metadata": {
        "colab": {
          "base_uri": "https://localhost:8080/"
        },
        "id": "Jr2GFWgYyr-B",
        "outputId": "7b46c715-9083-4471-f54d-5372f9fc93ca"
      },
      "execution_count": 12,
      "outputs": [
        {
          "output_type": "execute_result",
          "data": {
            "text/plain": [
              "0    509\n",
              "1    108\n",
              "Name: Class, dtype: int64"
            ]
          },
          "metadata": {},
          "execution_count": 12
        }
      ]
    },
    {
      "cell_type": "code",
      "source": [
        "# code from matplotlib documentation to draw a pie chart\n",
        "\n",
        "sizes = train['Class'].value_counts().to_list()\n",
        "labels = train['Class'].value_counts().index.to_list()\n",
        "fig1, ax1 = plt.subplots()\n",
        "ax1.pie(sizes, labels=labels, autopct='%1.1f%%',\n",
        "        shadow=False, startangle=90)\n",
        "ax1.legend(title='Class')\n",
        "ax1.set_title('Class value counts in %')\n",
        "ax1.axis('equal')  # Equal aspect ratio ensures that pie is drawn as a circle.\n",
        "\n",
        "plt.show()"
      ],
      "metadata": {
        "colab": {
          "base_uri": "https://localhost:8080/",
          "height": 428
        },
        "id": "yHOh1OyiJHAi",
        "outputId": "4195cc4d-db7f-46eb-a637-8afa7440882d"
      },
      "execution_count": 13,
      "outputs": [
        {
          "output_type": "display_data",
          "data": {
            "text/plain": [
              "<Figure size 640x480 with 1 Axes>"
            ],
            "image/png": "[encoded data removed]"
          },
          "metadata": {}
        }
      ]
    },
    {
      "cell_type": "markdown",
      "source": [
        "The target variable is imbalanced, with ratio of approx 1 to 5.\n",
        "\n",
        "So, a data augmentation and/or balancing technique might be required in the modeling section."
      ],
      "metadata": {
        "id": "HD9VXcQmzuVp"
      }
    },
    {
      "cell_type": "markdown",
      "source": [
        "## Greeks dataset"
      ],
      "metadata": {
        "id": "m6EsPamy00ad"
      }
    },
    {
      "cell_type": "markdown",
      "source": [
        "Ignored at this stage, as it will not be provided in the testing data."
      ],
      "metadata": {
        "id": "tAmvIOM3378E"
      }
    },
    {
      "cell_type": "markdown",
      "source": [
        "# Preprocessing"
      ],
      "metadata": {
        "id": "141b_H56rdHg"
      }
    },
    {
      "cell_type": "markdown",
      "source": [
        "## Missing Data"
      ],
      "metadata": {
        "id": "VcVLil4FT-sh"
      }
    },
    {
      "cell_type": "code",
      "source": [
        "# Missing data counts\n",
        "train.isna().sum()"
      ],
      "metadata": {
        "colab": {
          "base_uri": "https://localhost:8080/"
        },
        "id": "CxuwSNZHeYhx",
        "outputId": "990abd6e-29f2-4f10-c5b3-79c5e93c1cbe"
      },
      "execution_count": 14,
      "outputs": [
        {
          "output_type": "execute_result",
          "data": {
            "text/plain": [
              "AB        0\n",
              "AF        0\n",
              "AH        0\n",
              "AM        0\n",
              "AR        0\n",
              "AX        0\n",
              "AY        0\n",
              "AZ        0\n",
              "BC        0\n",
              "BD        0\n",
              "BN        0\n",
              "BP        0\n",
              "BQ       60\n",
              "BR        0\n",
              "BZ        0\n",
              "CB        2\n",
              "CC        3\n",
              "CD        0\n",
              "CF        0\n",
              "CH        0\n",
              "CL        0\n",
              "CR        0\n",
              "CS        0\n",
              "CU        0\n",
              "CW        0\n",
              "DA        0\n",
              "DE        0\n",
              "DF        0\n",
              "DH        0\n",
              "DI        0\n",
              "DL        0\n",
              "DN        0\n",
              "DU        1\n",
              "DV        0\n",
              "DY        0\n",
              "EB        0\n",
              "EE        0\n",
              "EG        0\n",
              "EH        0\n",
              "EJ        0\n",
              "EL       60\n",
              "EP        0\n",
              "EU        0\n",
              "FC        1\n",
              "FD        0\n",
              "FE        0\n",
              "FI        0\n",
              "FL        1\n",
              "FR        0\n",
              "FS        2\n",
              "GB        0\n",
              "GE        0\n",
              "GF        0\n",
              "GH        0\n",
              "GI        0\n",
              "GL        1\n",
              "Class     0\n",
              "dtype: int64"
            ]
          },
          "metadata": {},
          "execution_count": 14
        }
      ]
    },
    {
      "cell_type": "code",
      "source": [
        "# Removing rows with missig data\n",
        "train = train.dropna()"
      ],
      "metadata": {
        "id": "swOFr5eC0nWK"
      },
      "execution_count": 15,
      "outputs": []
    },
    {
      "cell_type": "code",
      "source": [
        "#  Sum of all missing values across variables\n",
        "train.isna().sum().sum()"
      ],
      "metadata": {
        "colab": {
          "base_uri": "https://localhost:8080/"
        },
        "id": "Cn7UXA2U0sYd",
        "outputId": "50654a4e-932e-4648-b3fc-52cc23ca4587"
      },
      "execution_count": 16,
      "outputs": [
        {
          "output_type": "execute_result",
          "data": {
            "text/plain": [
              "0"
            ]
          },
          "metadata": {},
          "execution_count": 16
        }
      ]
    },
    {
      "cell_type": "markdown",
      "source": [
        "## Converting Categorical variables"
      ],
      "metadata": {
        "id": "ig9P_nyWUEDy"
      }
    },
    {
      "cell_type": "code",
      "source": [
        "# getting dummies for categorical variable\n",
        "train.select_dtypes(exclude=['float64']).columns"
      ],
      "metadata": {
        "colab": {
          "base_uri": "https://localhost:8080/"
        },
        "id": "Ub9s71B9OgCp",
        "outputId": "5d33389d-9569-47d1-dfe5-56512c46e8d5"
      },
      "execution_count": 17,
      "outputs": [
        {
          "output_type": "execute_result",
          "data": {
            "text/plain": [
              "Index(['EJ', 'Class'], dtype='object')"
            ]
          },
          "metadata": {},
          "execution_count": 17
        }
      ]
    },
    {
      "cell_type": "markdown",
      "source": [
        "So, beside the [Id] and [Class] columns, we have one categorical variable called [EJ].\n",
        "\n",
        "We use pandas' replace methods to 'Convert categorical variable into A:0/B:1 variables' as the docummentation suggest.\n"
      ],
      "metadata": {
        "id": "JqLtd1_VQtFi"
      }
    },
    {
      "cell_type": "code",
      "source": [
        "# A Glimpse into EJ variable\n",
        "train['EJ'].value_counts()"
      ],
      "metadata": {
        "colab": {
          "base_uri": "https://localhost:8080/"
        },
        "id": "TGRycOMcRyfg",
        "outputId": "739bf217-fa17-4919-b40c-98daa51276e4"
      },
      "execution_count": 18,
      "outputs": [
        {
          "output_type": "execute_result",
          "data": {
            "text/plain": [
              "B    329\n",
              "A    219\n",
              "Name: EJ, dtype: int64"
            ]
          },
          "metadata": {},
          "execution_count": 18
        }
      ]
    },
    {
      "cell_type": "code",
      "source": [
        "# Conversion\n",
        "train = train.replace({'EJ' : { 'A' : 0, 'B' : 1}})"
      ],
      "metadata": {
        "id": "Db7ntaH6Rff9"
      },
      "execution_count": 19,
      "outputs": []
    },
    {
      "cell_type": "code",
      "source": [
        "train.columns"
      ],
      "metadata": {
        "colab": {
          "base_uri": "https://localhost:8080/"
        },
        "id": "_725gHE1RfXx",
        "outputId": "81b18986-9e8e-40ef-ac55-c4757f6a2715"
      },
      "execution_count": 20,
      "outputs": [
        {
          "output_type": "execute_result",
          "data": {
            "text/plain": [
              "Index(['AB', 'AF', 'AH', 'AM', 'AR', 'AX', 'AY', 'AZ', 'BC', 'BD ', 'BN', 'BP',\n",
              "       'BQ', 'BR', 'BZ', 'CB', 'CC', 'CD ', 'CF', 'CH', 'CL', 'CR', 'CS', 'CU',\n",
              "       'CW ', 'DA', 'DE', 'DF', 'DH', 'DI', 'DL', 'DN', 'DU', 'DV', 'DY', 'EB',\n",
              "       'EE', 'EG', 'EH', 'EJ', 'EL', 'EP', 'EU', 'FC', 'FD ', 'FE', 'FI', 'FL',\n",
              "       'FR', 'FS', 'GB', 'GE', 'GF', 'GH', 'GI', 'GL', 'Class'],\n",
              "      dtype='object')"
            ]
          },
          "metadata": {},
          "execution_count": 20
        }
      ]
    },
    {
      "cell_type": "markdown",
      "source": [
        "The categorical variable in column 'EJ' are now converted into two numerical observations 0/1."
      ],
      "metadata": {
        "id": "vo-fMrHATu1K"
      }
    },
    {
      "cell_type": "markdown",
      "source": [
        "## Data Scaling"
      ],
      "metadata": {
        "id": "ity0V-m_UN5Y"
      }
    },
    {
      "cell_type": "markdown",
      "source": [
        "Different features with a variety of magnitudes expore our models (linear ones) to the risk of bias resulting from associating penality/importance to the order of magniture of each variable."
      ],
      "metadata": {
        "id": "cM-zploDUX3H"
      }
    },
    {
      "cell_type": "code",
      "source": [
        "# Scaling train data into [0,1] range:\n",
        "scaler = MinMaxScaler()\n",
        "scaled_train = scaler.fit_transform(train)"
      ],
      "metadata": {
        "id": "sQxaOrSyZlWC"
      },
      "execution_count": 21,
      "outputs": []
    },
    {
      "cell_type": "code",
      "source": [
        "# Turning results into dataframe:\n",
        "scaled_train = pd.DataFrame(scaled_train,\n",
        "                            columns=train.columns)\n",
        "scaled_train"
      ],
      "metadata": {
        "colab": {
          "base_uri": "https://localhost:8080/",
          "height": 488
        },
        "id": "YhP6ylRGeGgr",
        "outputId": "4bbadc42-8d26-4c18-af70-cb1b9ab3f22e"
      },
      "execution_count": 22,
      "outputs": [
        {
          "output_type": "execute_result",
          "data": {
            "text/plain": [
              "           AB        AF        AH        AM        AR        AX        AY  \\\n",
              "0    0.028487  0.102347  0.000000  0.030632  0.000000  0.000000  0.000000   \n",
              "1    0.013752  0.027589  0.000000  0.053864  0.000000  0.078048  0.000000   \n",
              "2    0.088409  0.085715  0.000000  0.046519  0.000000  0.160575  0.000000   \n",
              "3    0.038310  0.127285  0.019180  0.117854  0.000000  0.079462  0.000000   \n",
              "4    0.067780  0.124246  0.000000  0.017417  0.000000  0.086300  0.002841   \n",
              "..        ...       ...       ...       ...       ...       ...       ...   \n",
              "543  0.020629  0.084738  0.000000  0.006201  0.000000  0.088658  0.000000   \n",
              "544  0.014735  0.103085  0.021132  0.010101  0.028583  0.074511  0.005030   \n",
              "545  0.080550  0.184921  0.000000  0.069139  0.045868  0.140533  0.000030   \n",
              "546  0.078585  0.079539  0.024625  0.083174  0.010930  0.196180  0.000000   \n",
              "547  0.091356  0.087029  0.252868  0.173476  0.000000  0.066494  0.008877   \n",
              "\n",
              "           AZ        BC       BD   ...        FL        FR        FS  \\\n",
              "0    0.180337  0.002958  0.047364  ...  0.051720  0.000998  0.000866   \n",
              "1    0.284500  0.000000  0.074042  ...  0.000000  0.000000  0.016014   \n",
              "2    0.265013  0.000000  0.067011  ...  0.054706  0.000385  0.036139   \n",
              "3    0.215235  0.000000  0.048203  ...  0.043183  0.000000  0.006925   \n",
              "4    0.000000  0.069008  0.078555  ...  0.057926  0.038597  0.001731   \n",
              "..        ...       ...       ...  ...       ...       ...       ...   \n",
              "543  0.000000  0.000000  0.098581  ...  0.000000  0.001124  0.042415   \n",
              "544  0.144730  0.001076  0.047970  ...  0.000000  0.000614  0.000000   \n",
              "545  0.259345  0.001742  0.077101  ...  0.072953  0.000599  0.011469   \n",
              "546  0.337644  0.000000  0.081672  ...  0.000000  0.000000  0.000000   \n",
              "547  0.000000  0.004594  0.021889  ...  0.000000  0.000521  0.002597   \n",
              "\n",
              "           GB        GE        GF        GH        GI        GL  Class  \n",
              "0    0.049385  0.000000  0.013846  0.176983  0.362261  0.005425    1.0  \n",
              "1    0.033753  0.000000  0.194527  0.274495  0.164135  1.000000    0.0  \n",
              "2    0.246003  0.011229  0.095035  0.258994  0.180218  0.008910    0.0  \n",
              "3    0.104313  0.006882  0.014475  0.425143  0.470820  0.007039    0.0  \n",
              "4    0.088112  0.051588  0.059198  0.500829  0.185841  0.004345    1.0  \n",
              "..        ...       ...       ...       ...       ...       ...    ...  \n",
              "543  0.091949  0.121764  0.076141  0.403292  0.210777  1.000000    0.0  \n",
              "544  0.031266  0.101448  0.056218  0.211871  0.358883  1.000000    0.0  \n",
              "545  0.236979  0.297867  0.021368  0.281649  0.651146  0.006562    0.0  \n",
              "546  0.115256  0.039506  0.044942  0.233126  0.623561  1.000000    0.0  \n",
              "547  0.067221  0.000000  0.047556  0.505910  0.598773  1.000000    0.0  \n",
              "\n",
              "[548 rows x 57 columns]"
            ],
            "text/html": [
              "\n",
              "  <div id=\"df-1256a951-6e36-42c9-b7e7-0d536fa5e2ba\">\n",
              "    <div class=\"colab-df-container\">\n",
              "      <div>\n",
              "<style scoped>\n",
              "    .dataframe tbody tr th:only-of-type {\n",
              "        vertical-align: middle;\n",
              "    }\n",
              "\n",
              "    .dataframe tbody tr th {\n",
              "        vertical-align: top;\n",
              "    }\n",
              "\n",
              "    .dataframe thead th {\n",
              "        text-align: right;\n",
              "    }\n",
              "</style>\n",
              "<table border=\"1\" class=\"dataframe\">\n",
              "  <thead>\n",
              "    <tr style=\"text-align: right;\">\n",
              "      <th></th>\n",
              "      <th>AB</th>\n",
              "      <th>AF</th>\n",
              "      <th>AH</th>\n",
              "      <th>AM</th>\n",
              "      <th>AR</th>\n",
              "      <th>AX</th>\n",
              "      <th>AY</th>\n",
              "      <th>AZ</th>\n",
              "      <th>BC</th>\n",
              "      <th>BD</th>\n",
              "      <th>...</th>\n",
              "      <th>FL</th>\n",
              "      <th>FR</th>\n",
              "      <th>FS</th>\n",
              "      <th>GB</th>\n",
              "      <th>GE</th>\n",
              "      <th>GF</th>\n",
              "      <th>GH</th>\n",
              "      <th>GI</th>\n",
              "      <th>GL</th>\n",
              "      <th>Class</th>\n",
              "    </tr>\n",
              "  </thead>\n",
              "  <tbody>\n",
              "    <tr>\n",
              "      <th>0</th>\n",
              "      <td>0.028487</td>\n",
              "      <td>0.102347</td>\n",
              "      <td>0.000000</td>\n",
              "      <td>0.030632</td>\n",
              "      <td>0.000000</td>\n",
              "      <td>0.000000</td>\n",
              "      <td>0.000000</td>\n",
              "      <td>0.180337</td>\n",
              "      <td>0.002958</td>\n",
              "      <td>0.047364</td>\n",
              "      <td>...</td>\n",
              "      <td>0.051720</td>\n",
              "      <td>0.000998</td>\n",
              "      <td>0.000866</td>\n",
              "      <td>0.049385</td>\n",
              "      <td>0.000000</td>\n",
              "      <td>0.013846</td>\n",
              "      <td>0.176983</td>\n",
              "      <td>0.362261</td>\n",
              "      <td>0.005425</td>\n",
              "      <td>1.0</td>\n",
              "    </tr>\n",
              "    <tr>\n",
              "      <th>1</th>\n",
              "      <td>0.013752</td>\n",
              "      <td>0.027589</td>\n",
              "      <td>0.000000</td>\n",
              "      <td>0.053864</td>\n",
              "      <td>0.000000</td>\n",
              "      <td>0.078048</td>\n",
              "      <td>0.000000</td>\n",
              "      <td>0.284500</td>\n",
              "      <td>0.000000</td>\n",
              "      <td>0.074042</td>\n",
              "      <td>...</td>\n",
              "      <td>0.000000</td>\n",
              "      <td>0.000000</td>\n",
              "      <td>0.016014</td>\n",
              "      <td>0.033753</td>\n",
              "      <td>0.000000</td>\n",
              "      <td>0.194527</td>\n",
              "      <td>0.274495</td>\n",
              "      <td>0.164135</td>\n",
              "      <td>1.000000</td>\n",
              "      <td>0.0</td>\n",
              "    </tr>\n",
              "    <tr>\n",
              "      <th>2</th>\n",
              "      <td>0.088409</td>\n",
              "      <td>0.085715</td>\n",
              "      <td>0.000000</td>\n",
              "      <td>0.046519</td>\n",
              "      <td>0.000000</td>\n",
              "      <td>0.160575</td>\n",
              "      <td>0.000000</td>\n",
              "      <td>0.265013</td>\n",
              "      <td>0.000000</td>\n",
              "      <td>0.067011</td>\n",
              "      <td>...</td>\n",
              "      <td>0.054706</td>\n",
              "      <td>0.000385</td>\n",
              "      <td>0.036139</td>\n",
              "      <td>0.246003</td>\n",
              "      <td>0.011229</td>\n",
              "      <td>0.095035</td>\n",
              "      <td>0.258994</td>\n",
              "      <td>0.180218</td>\n",
              "      <td>0.008910</td>\n",
              "      <td>0.0</td>\n",
              "    </tr>\n",
              "    <tr>\n",
              "      <th>3</th>\n",
              "      <td>0.038310</td>\n",
              "      <td>0.127285</td>\n",
              "      <td>0.019180</td>\n",
              "      <td>0.117854</td>\n",
              "      <td>0.000000</td>\n",
              "      <td>0.079462</td>\n",
              "      <td>0.000000</td>\n",
              "      <td>0.215235</td>\n",
              "      <td>0.000000</td>\n",
              "      <td>0.048203</td>\n",
              "      <td>...</td>\n",
              "      <td>0.043183</td>\n",
              "      <td>0.000000</td>\n",
              "      <td>0.006925</td>\n",
              "      <td>0.104313</td>\n",
              "      <td>0.006882</td>\n",
              "      <td>0.014475</td>\n",
              "      <td>0.425143</td>\n",
              "      <td>0.470820</td>\n",
              "      <td>0.007039</td>\n",
              "      <td>0.0</td>\n",
              "    </tr>\n",
              "    <tr>\n",
              "      <th>4</th>\n",
              "      <td>0.067780</td>\n",
              "      <td>0.124246</td>\n",
              "      <td>0.000000</td>\n",
              "      <td>0.017417</td>\n",
              "      <td>0.000000</td>\n",
              "      <td>0.086300</td>\n",
              "      <td>0.002841</td>\n",
              "      <td>0.000000</td>\n",
              "      <td>0.069008</td>\n",
              "      <td>0.078555</td>\n",
              "      <td>...</td>\n",
              "      <td>0.057926</td>\n",
              "      <td>0.038597</td>\n",
              "      <td>0.001731</td>\n",
              "      <td>0.088112</td>\n",
              "      <td>0.051588</td>\n",
              "      <td>0.059198</td>\n",
              "      <td>0.500829</td>\n",
              "      <td>0.185841</td>\n",
              "      <td>0.004345</td>\n",
              "      <td>1.0</td>\n",
              "    </tr>\n",
              "    <tr>\n",
              "      <th>...</th>\n",
              "      <td>...</td>\n",
              "      <td>...</td>\n",
              "      <td>...</td>\n",
              "      <td>...</td>\n",
              "      <td>...</td>\n",
              "      <td>...</td>\n",
              "      <td>...</td>\n",
              "      <td>...</td>\n",
              "      <td>...</td>\n",
              "      <td>...</td>\n",
              "      <td>...</td>\n",
              "      <td>...</td>\n",
              "      <td>...</td>\n",
              "      <td>...</td>\n",
              "      <td>...</td>\n",
              "      <td>...</td>\n",
              "      <td>...</td>\n",
              "      <td>...</td>\n",
              "      <td>...</td>\n",
              "      <td>...</td>\n",
              "      <td>...</td>\n",
              "    </tr>\n",
              "    <tr>\n",
              "      <th>543</th>\n",
              "      <td>0.020629</td>\n",
              "      <td>0.084738</td>\n",
              "      <td>0.000000</td>\n",
              "      <td>0.006201</td>\n",
              "      <td>0.000000</td>\n",
              "      <td>0.088658</td>\n",
              "      <td>0.000000</td>\n",
              "      <td>0.000000</td>\n",
              "      <td>0.000000</td>\n",
              "      <td>0.098581</td>\n",
              "      <td>...</td>\n",
              "      <td>0.000000</td>\n",
              "      <td>0.001124</td>\n",
              "      <td>0.042415</td>\n",
              "      <td>0.091949</td>\n",
              "      <td>0.121764</td>\n",
              "      <td>0.076141</td>\n",
              "      <td>0.403292</td>\n",
              "      <td>0.210777</td>\n",
              "      <td>1.000000</td>\n",
              "      <td>0.0</td>\n",
              "    </tr>\n",
              "    <tr>\n",
              "      <th>544</th>\n",
              "      <td>0.014735</td>\n",
              "      <td>0.103085</td>\n",
              "      <td>0.021132</td>\n",
              "      <td>0.010101</td>\n",
              "      <td>0.028583</td>\n",
              "      <td>0.074511</td>\n",
              "      <td>0.005030</td>\n",
              "      <td>0.144730</td>\n",
              "      <td>0.001076</td>\n",
              "      <td>0.047970</td>\n",
              "      <td>...</td>\n",
              "      <td>0.000000</td>\n",
              "      <td>0.000614</td>\n",
              "      <td>0.000000</td>\n",
              "      <td>0.031266</td>\n",
              "      <td>0.101448</td>\n",
              "      <td>0.056218</td>\n",
              "      <td>0.211871</td>\n",
              "      <td>0.358883</td>\n",
              "      <td>1.000000</td>\n",
              "      <td>0.0</td>\n",
              "    </tr>\n",
              "    <tr>\n",
              "      <th>545</th>\n",
              "      <td>0.080550</td>\n",
              "      <td>0.184921</td>\n",
              "      <td>0.000000</td>\n",
              "      <td>0.069139</td>\n",
              "      <td>0.045868</td>\n",
              "      <td>0.140533</td>\n",
              "      <td>0.000030</td>\n",
              "      <td>0.259345</td>\n",
              "      <td>0.001742</td>\n",
              "      <td>0.077101</td>\n",
              "      <td>...</td>\n",
              "      <td>0.072953</td>\n",
              "      <td>0.000599</td>\n",
              "      <td>0.011469</td>\n",
              "      <td>0.236979</td>\n",
              "      <td>0.297867</td>\n",
              "      <td>0.021368</td>\n",
              "      <td>0.281649</td>\n",
              "      <td>0.651146</td>\n",
              "      <td>0.006562</td>\n",
              "      <td>0.0</td>\n",
              "    </tr>\n",
              "    <tr>\n",
              "      <th>546</th>\n",
              "      <td>0.078585</td>\n",
              "      <td>0.079539</td>\n",
              "      <td>0.024625</td>\n",
              "      <td>0.083174</td>\n",
              "      <td>0.010930</td>\n",
              "      <td>0.196180</td>\n",
              "      <td>0.000000</td>\n",
              "      <td>0.337644</td>\n",
              "      <td>0.000000</td>\n",
              "      <td>0.081672</td>\n",
              "      <td>...</td>\n",
              "      <td>0.000000</td>\n",
              "      <td>0.000000</td>\n",
              "      <td>0.000000</td>\n",
              "      <td>0.115256</td>\n",
              "      <td>0.039506</td>\n",
              "      <td>0.044942</td>\n",
              "      <td>0.233126</td>\n",
              "      <td>0.623561</td>\n",
              "      <td>1.000000</td>\n",
              "      <td>0.0</td>\n",
              "    </tr>\n",
              "    <tr>\n",
              "      <th>547</th>\n",
              "      <td>0.091356</td>\n",
              "      <td>0.087029</td>\n",
              "      <td>0.252868</td>\n",
              "      <td>0.173476</td>\n",
              "      <td>0.000000</td>\n",
              "      <td>0.066494</td>\n",
              "      <td>0.008877</td>\n",
              "      <td>0.000000</td>\n",
              "      <td>0.004594</td>\n",
              "      <td>0.021889</td>\n",
              "      <td>...</td>\n",
              "      <td>0.000000</td>\n",
              "      <td>0.000521</td>\n",
              "      <td>0.002597</td>\n",
              "      <td>0.067221</td>\n",
              "      <td>0.000000</td>\n",
              "      <td>0.047556</td>\n",
              "      <td>0.505910</td>\n",
              "      <td>0.598773</td>\n",
              "      <td>1.000000</td>\n",
              "      <td>0.0</td>\n",
              "    </tr>\n",
              "  </tbody>\n",
              "</table>\n",
              "<p>548 rows × 57 columns</p>\n",
              "</div>\n",
              "      <button class=\"colab-df-convert\" onclick=\"convertToInteractive('df-1256a951-6e36-42c9-b7e7-0d536fa5e2ba')\"\n",
              "              title=\"Convert this dataframe to an interactive table.\"\n",
              "              style=\"display:none;\">\n",
              "        \n",
              "  <svg xmlns=\"http://www.w3.org/2000/svg\" height=\"24px\"viewBox=\"0 0 24 24\"\n",
              "       width=\"24px\">\n",
              "    <path d=\"M0 0h24v24H0V0z\" fill=\"none\"/>\n",
              "    <path d=\"M18.56 5.44l.94 2.06.94-2.06 2.06-.94-2.06-.94-.94-2.06-.94 2.06-2.06.94zm-11 1L8.5 8.5l.94-2.06 2.06-.94-2.06-.94L8.5 2.5l-.94 2.06-2.06.94zm10 10l.94 2.06.94-2.06 2.06-.94-2.06-.94-.94-2.06-.94 2.06-2.06.94z\"/><path d=\"M17.41 7.96l-1.37-1.37c-.4-.4-.92-.59-1.43-.59-.52 0-1.04.2-1.43.59L10.3 9.45l-7.72 7.72c-.78.78-.78 2.05 0 2.83L4 21.41c.39.39.9.59 1.41.59.51 0 1.02-.2 1.41-.59l7.78-7.78 2.81-2.81c.8-.78.8-2.07 0-2.86zM5.41 20L4 18.59l7.72-7.72 1.47 1.35L5.41 20z\"/>\n",
              "  </svg>\n",
              "      </button>\n",
              "      \n",
              "  <style>\n",
              "    .colab-df-container {\n",
              "      display:flex;\n",
              "      flex-wrap:wrap;\n",
              "      gap: 12px;\n",
              "    }\n",
              "\n",
              "    .colab-df-convert {\n",
              "      background-color: #E8F0FE;\n",
              "      border: none;\n",
              "      border-radius: 50%;\n",
              "      cursor: pointer;\n",
              "      display: none;\n",
              "      fill: #1967D2;\n",
              "      height: 32px;\n",
              "      padding: 0 0 0 0;\n",
              "      width: 32px;\n",
              "    }\n",
              "\n",
              "    .colab-df-convert:hover {\n",
              "      background-color: #E2EBFA;\n",
              "      box-shadow: 0px 1px 2px rgba(60, 64, 67, 0.3), 0px 1px 3px 1px rgba(60, 64, 67, 0.15);\n",
              "      fill: #174EA6;\n",
              "    }\n",
              "\n",
              "    [theme=dark] .colab-df-convert {\n",
              "      background-color: #3B4455;\n",
              "      fill: #D2E3FC;\n",
              "    }\n",
              "\n",
              "    [theme=dark] .colab-df-convert:hover {\n",
              "      background-color: #434B5C;\n",
              "      box-shadow: 0px 1px 3px 1px rgba(0, 0, 0, 0.15);\n",
              "      filter: drop-shadow(0px 1px 2px rgba(0, 0, 0, 0.3));\n",
              "      fill: #FFFFFF;\n",
              "    }\n",
              "  </style>\n",
              "\n",
              "      <script>\n",
              "        const buttonEl =\n",
              "          document.querySelector('#df-1256a951-6e36-42c9-b7e7-0d536fa5e2ba button.colab-df-convert');\n",
              "        buttonEl.style.display =\n",
              "          google.colab.kernel.accessAllowed ? 'block' : 'none';\n",
              "\n",
              "        async function convertToInteractive(key) {\n",
              "          const element = document.querySelector('#df-1256a951-6e36-42c9-b7e7-0d536fa5e2ba');\n",
              "          const dataTable =\n",
              "            await google.colab.kernel.invokeFunction('convertToInteractive',\n",
              "                                                     [key], {});\n",
              "          if (!dataTable) return;\n",
              "\n",
              "          const docLinkHtml = 'Like what you see? Visit the ' +\n",
              "            '<a target=\"_blank\" href=https://colab.research.google.com/notebooks/data_table.ipynb>data table notebook</a>'\n",
              "            + ' to learn more about interactive tables.';\n",
              "          element.innerHTML = '';\n",
              "          dataTable['output_type'] = 'display_data';\n",
              "          await google.colab.output.renderOutput(dataTable, element);\n",
              "          const docLink = document.createElement('div');\n",
              "          docLink.innerHTML = docLinkHtml;\n",
              "          element.appendChild(docLink);\n",
              "        }\n",
              "      </script>\n",
              "    </div>\n",
              "  </div>\n",
              "  "
            ]
          },
          "metadata": {},
          "execution_count": 22
        }
      ]
    },
    {
      "cell_type": "markdown",
      "source": [
        "Now, we have training features with the same magnitudes (from 0 to 1). "
      ],
      "metadata": {
        "id": "_VsYaSy3eY6F"
      }
    },
    {
      "cell_type": "markdown",
      "source": [
        "## Spliting training and testing sets"
      ],
      "metadata": {
        "id": "0ugkc8T8eshj"
      }
    },
    {
      "cell_type": "markdown",
      "source": [
        "Setting 25% for testing and 75% for training."
      ],
      "metadata": {
        "id": "661da_Pb23f3"
      }
    },
    {
      "cell_type": "code",
      "source": [
        "# Define X and y\n",
        "y = scaled_train['Class']\n",
        "X = scaled_train.drop(columns='Class')\n",
        "\n",
        "# train_test_split\n",
        "X_train, X_test, y_train, y_test = train_test_split(X, y, \n",
        "                                                    test_size=0.25, \n",
        "                                                    random_state = random_state)"
      ],
      "metadata": {
        "id": "0n8Iytfqeyja"
      },
      "execution_count": 23,
      "outputs": []
    },
    {
      "cell_type": "markdown",
      "source": [
        "# Modeling Baseling"
      ],
      "metadata": {
        "id": "hz-rxqX4sCn5"
      }
    },
    {
      "cell_type": "markdown",
      "source": [
        "## SGDClassifier"
      ],
      "metadata": {
        "id": "o6Uz2IZdA9hB"
      }
    },
    {
      "cell_type": "code",
      "source": [
        "# baseline model\n",
        "SGDClassifier_model= SGDClassifier(loss='log_loss',\n",
        "                                  penalty='l2', \n",
        "                                  alpha=0.0001, \n",
        "                                  l1_ratio=0.15, \n",
        "                                  fit_intercept=False, \n",
        "                                  max_iter=1000, \n",
        "                                  tol=0.001, \n",
        "                                  shuffle=True, \n",
        "                                  verbose=0, \n",
        "                                  epsilon=0.1, \n",
        "                                  n_jobs=-1, \n",
        "                                  random_state=random_state, \n",
        "                                  learning_rate='optimal', \n",
        "                                  eta0=0.0, \n",
        "                                  power_t=0.5, \n",
        "                                  early_stopping=False, \n",
        "                                  validation_fraction=0.30, \n",
        "                                  n_iter_no_change=10, \n",
        "                                  class_weight='balanced', # As our target var is imbalanced\n",
        "                                  warm_start=False, \n",
        "                                  average=False)\n",
        "\n",
        "SGDClassifier_model.fit(X_train, y_train)"
      ],
      "metadata": {
        "colab": {
          "base_uri": "https://localhost:8080/",
          "height": 109
        },
        "id": "oTwJFTSuBBoa",
        "outputId": "973b0cd7-b197-4f21-e141-358d52f42095"
      },
      "execution_count": 39,
      "outputs": [
        {
          "output_type": "execute_result",
          "data": {
            "text/plain": [
              "SGDClassifier(class_weight='balanced', fit_intercept=False, loss='log_loss',\n",
              "              n_iter_no_change=10, n_jobs=-1, random_state=88,\n",
              "              validation_fraction=0.3)"
            ],
            "text/html": [
              "<style>#sk-container-id-2 {color: black;background-color: white;}#sk-container-id-2 pre{padding: 0;}#sk-container-id-2 div.sk-toggleable {background-color: white;}#sk-container-id-2 label.sk-toggleable__label {cursor: pointer;display: block;width: 100%;margin-bottom: 0;padding: 0.3em;box-sizing: border-box;text-align: center;}#sk-container-id-2 label.sk-toggleable__label-arrow:before {content: \"▸\";float: left;margin-right: 0.25em;color: #696969;}#sk-container-id-2 label.sk-toggleable__label-arrow:hover:before {color: black;}#sk-container-id-2 div.sk-estimator:hover label.sk-toggleable__label-arrow:before {color: black;}#sk-container-id-2 div.sk-toggleable__content {max-height: 0;max-width: 0;overflow: hidden;text-align: left;background-color: #f0f8ff;}#sk-container-id-2 div.sk-toggleable__content pre {margin: 0.2em;color: black;border-radius: 0.25em;background-color: #f0f8ff;}#sk-container-id-2 input.sk-toggleable__control:checked~div.sk-toggleable__content {max-height: 200px;max-width: 100%;overflow: auto;}#sk-container-id-2 input.sk-toggleable__control:checked~label.sk-toggleable__label-arrow:before {content: \"▾\";}#sk-container-id-2 div.sk-estimator input.sk-toggleable__control:checked~label.sk-toggleable__label {background-color: #d4ebff;}#sk-container-id-2 div.sk-label input.sk-toggleable__control:checked~label.sk-toggleable__label {background-color: #d4ebff;}#sk-container-id-2 input.sk-hidden--visually {border: 0;clip: rect(1px 1px 1px 1px);clip: rect(1px, 1px, 1px, 1px);height: 1px;margin: -1px;overflow: hidden;padding: 0;position: absolute;width: 1px;}#sk-container-id-2 div.sk-estimator {font-family: monospace;background-color: #f0f8ff;border: 1px dotted black;border-radius: 0.25em;box-sizing: border-box;margin-bottom: 0.5em;}#sk-container-id-2 div.sk-estimator:hover {background-color: #d4ebff;}#sk-container-id-2 div.sk-parallel-item::after {content: \"\";width: 100%;border-bottom: 1px solid gray;flex-grow: 1;}#sk-container-id-2 div.sk-label:hover label.sk-toggleable__label {background-color: #d4ebff;}#sk-container-id-2 div.sk-serial::before {content: \"\";position: absolute;border-left: 1px solid gray;box-sizing: border-box;top: 0;bottom: 0;left: 50%;z-index: 0;}#sk-container-id-2 div.sk-serial {display: flex;flex-direction: column;align-items: center;background-color: white;padding-right: 0.2em;padding-left: 0.2em;position: relative;}#sk-container-id-2 div.sk-item {position: relative;z-index: 1;}#sk-container-id-2 div.sk-parallel {display: flex;align-items: stretch;justify-content: center;background-color: white;position: relative;}#sk-container-id-2 div.sk-item::before, #sk-container-id-2 div.sk-parallel-item::before {content: \"\";position: absolute;border-left: 1px solid gray;box-sizing: border-box;top: 0;bottom: 0;left: 50%;z-index: -1;}#sk-container-id-2 div.sk-parallel-item {display: flex;flex-direction: column;z-index: 1;position: relative;background-color: white;}#sk-container-id-2 div.sk-parallel-item:first-child::after {align-self: flex-end;width: 50%;}#sk-container-id-2 div.sk-parallel-item:last-child::after {align-self: flex-start;width: 50%;}#sk-container-id-2 div.sk-parallel-item:only-child::after {width: 0;}#sk-container-id-2 div.sk-dashed-wrapped {border: 1px dashed gray;margin: 0 0.4em 0.5em 0.4em;box-sizing: border-box;padding-bottom: 0.4em;background-color: white;}#sk-container-id-2 div.sk-label label {font-family: monospace;font-weight: bold;display: inline-block;line-height: 1.2em;}#sk-container-id-2 div.sk-label-container {text-align: center;}#sk-container-id-2 div.sk-container {/* jupyter's `normalize.less` sets `[hidden] { display: none; }` but bootstrap.min.css set `[hidden] { display: none !important; }` so we also need the `!important` here to be able to override the default hidden behavior on the sphinx rendered scikit-learn.org. See: https://github.com/scikit-learn/scikit-learn/issues/21755 */display: inline-block !important;position: relative;}#sk-container-id-2 div.sk-text-repr-fallback {display: none;}</style><div id=\"sk-container-id-2\" class=\"sk-top-container\"><div class=\"sk-text-repr-fallback\"><pre>SGDClassifier(class_weight=&#x27;balanced&#x27;, fit_intercept=False, loss=&#x27;log_loss&#x27;,\n",
              "              n_iter_no_change=10, n_jobs=-1, random_state=88,\n",
              "              validation_fraction=0.3)</pre><b>In a Jupyter environment, please rerun this cell to show the HTML representation or trust the notebook. <br />On GitHub, the HTML representation is unable to render, please try loading this page with nbviewer.org.</b></div><div class=\"sk-container\" hidden><div class=\"sk-item\"><div class=\"sk-estimator sk-toggleable\"><input class=\"sk-toggleable__control sk-hidden--visually\" id=\"sk-estimator-id-2\" type=\"checkbox\" checked><label for=\"sk-estimator-id-2\" class=\"sk-toggleable__label sk-toggleable__label-arrow\">SGDClassifier</label><div class=\"sk-toggleable__content\"><pre>SGDClassifier(class_weight=&#x27;balanced&#x27;, fit_intercept=False, loss=&#x27;log_loss&#x27;,\n",
              "              n_iter_no_change=10, n_jobs=-1, random_state=88,\n",
              "              validation_fraction=0.3)</pre></div></div></div></div></div>"
            ]
          },
          "metadata": {},
          "execution_count": 39
        }
      ]
    },
    {
      "cell_type": "markdown",
      "source": [
        "## Results"
      ],
      "metadata": {
        "id": "AQEd354XLoxX"
      }
    },
    {
      "cell_type": "code",
      "source": [
        "# Training score\n",
        "SGDClassifier_model.score(X_train, y_train)"
      ],
      "metadata": {
        "colab": {
          "base_uri": "https://localhost:8080/"
        },
        "id": "Xbl_zpY_zzTT",
        "outputId": "104928c8-0f0d-45cf-8565-2ce7258057e8"
      },
      "execution_count": 40,
      "outputs": [
        {
          "output_type": "execute_result",
          "data": {
            "text/plain": [
              "0.927007299270073"
            ]
          },
          "metadata": {},
          "execution_count": 40
        }
      ]
    },
    {
      "cell_type": "code",
      "source": [
        "pd.DataFrame(SGDClassifier_model.predict(X_train), columns=['Class']).value_counts()"
      ],
      "metadata": {
        "colab": {
          "base_uri": "https://localhost:8080/"
        },
        "id": "eaOj1N0wMSwL",
        "outputId": "a87ec99d-cffd-4305-a32a-2611a67faf07"
      },
      "execution_count": 41,
      "outputs": [
        {
          "output_type": "execute_result",
          "data": {
            "text/plain": [
              "Class\n",
              "0.0      336\n",
              "1.0       75\n",
              "dtype: int64"
            ]
          },
          "metadata": {},
          "execution_count": 41
        }
      ]
    },
    {
      "cell_type": "code",
      "source": [
        "# Testing score\n",
        "SGDClassifier_model.score(X_test, y_test)"
      ],
      "metadata": {
        "colab": {
          "base_uri": "https://localhost:8080/"
        },
        "id": "s4lDXhXHBkq5",
        "outputId": "9e97d97d-d2a2-4aa6-cce3-eede8fdc27e4"
      },
      "execution_count": 42,
      "outputs": [
        {
          "output_type": "execute_result",
          "data": {
            "text/plain": [
              "0.8686131386861314"
            ]
          },
          "metadata": {},
          "execution_count": 42
        }
      ]
    },
    {
      "cell_type": "code",
      "source": [
        "pd.DataFrame(SGDClassifier_model.predict(X_test), columns=['Class']).value_counts()"
      ],
      "metadata": {
        "colab": {
          "base_uri": "https://localhost:8080/"
        },
        "id": "nWXH7k7YySI7",
        "outputId": "997f1d69-3170-4662-edc7-c3b1cc1675c1"
      },
      "execution_count": 43,
      "outputs": [
        {
          "output_type": "execute_result",
          "data": {
            "text/plain": [
              "Class\n",
              "0.0      108\n",
              "1.0       29\n",
              "dtype: int64"
            ]
          },
          "metadata": {},
          "execution_count": 43
        }
      ]
    },
    {
      "cell_type": "code",
      "source": [
        "# Testing probabilities\n",
        "pd.DataFrame(SGDClassifier_model.predict_proba(X_test), \n",
        "             columns=['Class_0','Class_1']).round(4)"
      ],
      "metadata": {
        "colab": {
          "base_uri": "https://localhost:8080/",
          "height": 424
        },
        "id": "aN-dzz5PximS",
        "outputId": "9c57dfbc-e1cd-4151-fb6d-8f2641107da2"
      },
      "execution_count": 44,
      "outputs": [
        {
          "output_type": "execute_result",
          "data": {
            "text/plain": [
              "     Class_0  Class_1\n",
              "0     0.9617   0.0383\n",
              "1     0.9717   0.0283\n",
              "2     0.8462   0.1538\n",
              "3     0.9980   0.0020\n",
              "4     0.8953   0.1047\n",
              "..       ...      ...\n",
              "132   0.9972   0.0028\n",
              "133   0.9797   0.0203\n",
              "134   0.8228   0.1772\n",
              "135   0.9727   0.0273\n",
              "136   0.9908   0.0092\n",
              "\n",
              "[137 rows x 2 columns]"
            ],
            "text/html": [
              "\n",
              "  <div id=\"df-9346399a-40fd-4c38-8cac-6771e1df6ce8\">\n",
              "    <div class=\"colab-df-container\">\n",
              "      <div>\n",
              "<style scoped>\n",
              "    .dataframe tbody tr th:only-of-type {\n",
              "        vertical-align: middle;\n",
              "    }\n",
              "\n",
              "    .dataframe tbody tr th {\n",
              "        vertical-align: top;\n",
              "    }\n",
              "\n",
              "    .dataframe thead th {\n",
              "        text-align: right;\n",
              "    }\n",
              "</style>\n",
              "<table border=\"1\" class=\"dataframe\">\n",
              "  <thead>\n",
              "    <tr style=\"text-align: right;\">\n",
              "      <th></th>\n",
              "      <th>Class_0</th>\n",
              "      <th>Class_1</th>\n",
              "    </tr>\n",
              "  </thead>\n",
              "  <tbody>\n",
              "    <tr>\n",
              "      <th>0</th>\n",
              "      <td>0.9617</td>\n",
              "      <td>0.0383</td>\n",
              "    </tr>\n",
              "    <tr>\n",
              "      <th>1</th>\n",
              "      <td>0.9717</td>\n",
              "      <td>0.0283</td>\n",
              "    </tr>\n",
              "    <tr>\n",
              "      <th>2</th>\n",
              "      <td>0.8462</td>\n",
              "      <td>0.1538</td>\n",
              "    </tr>\n",
              "    <tr>\n",
              "      <th>3</th>\n",
              "      <td>0.9980</td>\n",
              "      <td>0.0020</td>\n",
              "    </tr>\n",
              "    <tr>\n",
              "      <th>4</th>\n",
              "      <td>0.8953</td>\n",
              "      <td>0.1047</td>\n",
              "    </tr>\n",
              "    <tr>\n",
              "      <th>...</th>\n",
              "      <td>...</td>\n",
              "      <td>...</td>\n",
              "    </tr>\n",
              "    <tr>\n",
              "      <th>132</th>\n",
              "      <td>0.9972</td>\n",
              "      <td>0.0028</td>\n",
              "    </tr>\n",
              "    <tr>\n",
              "      <th>133</th>\n",
              "      <td>0.9797</td>\n",
              "      <td>0.0203</td>\n",
              "    </tr>\n",
              "    <tr>\n",
              "      <th>134</th>\n",
              "      <td>0.8228</td>\n",
              "      <td>0.1772</td>\n",
              "    </tr>\n",
              "    <tr>\n",
              "      <th>135</th>\n",
              "      <td>0.9727</td>\n",
              "      <td>0.0273</td>\n",
              "    </tr>\n",
              "    <tr>\n",
              "      <th>136</th>\n",
              "      <td>0.9908</td>\n",
              "      <td>0.0092</td>\n",
              "    </tr>\n",
              "  </tbody>\n",
              "</table>\n",
              "<p>137 rows × 2 columns</p>\n",
              "</div>\n",
              "      <button class=\"colab-df-convert\" onclick=\"convertToInteractive('df-9346399a-40fd-4c38-8cac-6771e1df6ce8')\"\n",
              "              title=\"Convert this dataframe to an interactive table.\"\n",
              "              style=\"display:none;\">\n",
              "        \n",
              "  <svg xmlns=\"http://www.w3.org/2000/svg\" height=\"24px\"viewBox=\"0 0 24 24\"\n",
              "       width=\"24px\">\n",
              "    <path d=\"M0 0h24v24H0V0z\" fill=\"none\"/>\n",
              "    <path d=\"M18.56 5.44l.94 2.06.94-2.06 2.06-.94-2.06-.94-.94-2.06-.94 2.06-2.06.94zm-11 1L8.5 8.5l.94-2.06 2.06-.94-2.06-.94L8.5 2.5l-.94 2.06-2.06.94zm10 10l.94 2.06.94-2.06 2.06-.94-2.06-.94-.94-2.06-.94 2.06-2.06.94z\"/><path d=\"M17.41 7.96l-1.37-1.37c-.4-.4-.92-.59-1.43-.59-.52 0-1.04.2-1.43.59L10.3 9.45l-7.72 7.72c-.78.78-.78 2.05 0 2.83L4 21.41c.39.39.9.59 1.41.59.51 0 1.02-.2 1.41-.59l7.78-7.78 2.81-2.81c.8-.78.8-2.07 0-2.86zM5.41 20L4 18.59l7.72-7.72 1.47 1.35L5.41 20z\"/>\n",
              "  </svg>\n",
              "      </button>\n",
              "      \n",
              "  <style>\n",
              "    .colab-df-container {\n",
              "      display:flex;\n",
              "      flex-wrap:wrap;\n",
              "      gap: 12px;\n",
              "    }\n",
              "\n",
              "    .colab-df-convert {\n",
              "      background-color: #E8F0FE;\n",
              "      border: none;\n",
              "      border-radius: 50%;\n",
              "      cursor: pointer;\n",
              "      display: none;\n",
              "      fill: #1967D2;\n",
              "      height: 32px;\n",
              "      padding: 0 0 0 0;\n",
              "      width: 32px;\n",
              "    }\n",
              "\n",
              "    .colab-df-convert:hover {\n",
              "      background-color: #E2EBFA;\n",
              "      box-shadow: 0px 1px 2px rgba(60, 64, 67, 0.3), 0px 1px 3px 1px rgba(60, 64, 67, 0.15);\n",
              "      fill: #174EA6;\n",
              "    }\n",
              "\n",
              "    [theme=dark] .colab-df-convert {\n",
              "      background-color: #3B4455;\n",
              "      fill: #D2E3FC;\n",
              "    }\n",
              "\n",
              "    [theme=dark] .colab-df-convert:hover {\n",
              "      background-color: #434B5C;\n",
              "      box-shadow: 0px 1px 3px 1px rgba(0, 0, 0, 0.15);\n",
              "      filter: drop-shadow(0px 1px 2px rgba(0, 0, 0, 0.3));\n",
              "      fill: #FFFFFF;\n",
              "    }\n",
              "  </style>\n",
              "\n",
              "      <script>\n",
              "        const buttonEl =\n",
              "          document.querySelector('#df-9346399a-40fd-4c38-8cac-6771e1df6ce8 button.colab-df-convert');\n",
              "        buttonEl.style.display =\n",
              "          google.colab.kernel.accessAllowed ? 'block' : 'none';\n",
              "\n",
              "        async function convertToInteractive(key) {\n",
              "          const element = document.querySelector('#df-9346399a-40fd-4c38-8cac-6771e1df6ce8');\n",
              "          const dataTable =\n",
              "            await google.colab.kernel.invokeFunction('convertToInteractive',\n",
              "                                                     [key], {});\n",
              "          if (!dataTable) return;\n",
              "\n",
              "          const docLinkHtml = 'Like what you see? Visit the ' +\n",
              "            '<a target=\"_blank\" href=https://colab.research.google.com/notebooks/data_table.ipynb>data table notebook</a>'\n",
              "            + ' to learn more about interactive tables.';\n",
              "          element.innerHTML = '';\n",
              "          dataTable['output_type'] = 'display_data';\n",
              "          await google.colab.output.renderOutput(dataTable, element);\n",
              "          const docLink = document.createElement('div');\n",
              "          docLink.innerHTML = docLinkHtml;\n",
              "          element.appendChild(docLink);\n",
              "        }\n",
              "      </script>\n",
              "    </div>\n",
              "  </div>\n",
              "  "
            ]
          },
          "metadata": {},
          "execution_count": 44
        }
      ]
    },
    {
      "cell_type": "code",
      "source": [
        "# Saving Model\n",
        "pickle.dump(SGDClassifier_model, open('SGDClassifier_model.pkl', 'wb'))"
      ],
      "metadata": {
        "id": "HVB8ZbPLCGpV"
      },
      "execution_count": null,
      "outputs": []
    },
    {
      "cell_type": "markdown",
      "source": [
        "#Optimized Models"
      ],
      "metadata": {
        "id": "2HEKXWSNkTPE"
      }
    },
    {
      "cell_type": "code",
      "source": [
        "# Notes"
      ],
      "metadata": {
        "id": "r5qa8-ALkX3Z"
      },
      "execution_count": null,
      "outputs": []
    },
    {
      "cell_type": "markdown",
      "source": [
        "# Kaggle Submission"
      ],
      "metadata": {
        "id": "-dgDPHGAMgrv"
      }
    },
    {
      "cell_type": "markdown",
      "source": [
        "## Code + Scores => Baseline Model"
      ],
      "metadata": {
        "id": "7yK3GtUoMuYk"
      }
    },
    {
      "cell_type": "code",
      "source": [
        "# Libraries imports\n",
        "import pandas as pd\n",
        "import numpy as np\n",
        "from sklearn.preprocessing import MinMaxScaler\n",
        "from sklearn.model_selection import train_test_split\n",
        "from sklearn.linear_model import SGDClassifier\n",
        "import pickle\n",
        "\n",
        "#training \n",
        "\n",
        "train = pd.read_csv('/kaggle/input/icr-identify-age-related-conditions/train.csv').set_index('Id')\n",
        "## removing missing values\n",
        "train = train.dropna()\n",
        "## converting categorical variables\n",
        "train = train.replace({'EJ' : { 'A' : 0, 'B' : 1}})\n",
        "## Scaling\n",
        "train =pd.DataFrame(MinMaxScaler().fit_transform(train), columns=train.columns)\n",
        "## y\n",
        "y = train['Class']\n",
        "## X\n",
        "X = train.drop(columns='Class')\n",
        "## Predict_Prob\n",
        "SGDClassifier_model= SGDClassifier(loss='log_loss',\n",
        "                                  penalty='l1', \n",
        "                                  alpha=0.0001, \n",
        "                                  l1_ratio=0.15, \n",
        "                                  fit_intercept=False, \n",
        "                                  max_iter=1000, \n",
        "                                  tol=0.001, \n",
        "                                  shuffle=True, \n",
        "                                  verbose=0, \n",
        "                                  epsilon=0.1, \n",
        "                                  n_jobs=-1, \n",
        "                                  random_state=88, \n",
        "                                  learning_rate='optimal', \n",
        "                                  eta0=0.0, \n",
        "                                  power_t=0.5, \n",
        "                                  early_stopping=False, \n",
        "                                  validation_fraction=0.30, \n",
        "                                  n_iter_no_change=10, \n",
        "                                  class_weight='balanced', # As our target var is imbalanced\n",
        "                                  warm_start=False, \n",
        "                                  average=False)\n",
        "\n",
        "SGDClassifier_model.fit(X, y)\n",
        "\n",
        "# Testing\n",
        "\n",
        "test = pd.read_csv('/kaggle/input/icr-identify-age-related-conditions/test.csv').set_index('Id')\n",
        "## removing missing values\n",
        "test = test.dropna()\n",
        "## converting categorical variables\n",
        "test = test.replace({'EJ' : { 'A' : 0, 'B' : 1}})\n",
        "## Scaling\n",
        "test =pd.DataFrame(MinMaxScaler().fit_transform(test), columns=test.columns)\n",
        "## Creating Submission_file\n",
        "submission = pd.DataFrame(SGDClassifier_model.predict_proba(test), \n",
        "                          columns=['class_0','class_1'])\n",
        "\n",
        "submission.insert(0,\n",
        "                  'Id',\n",
        "                  pd.read_csv('/kaggle/input/icr-identify-age-related-conditions/test.csv',\n",
        "                  usecols=['Id']))\n",
        "\n",
        "submission.to_csv('submission.csv', index=False)"
      ],
      "metadata": {
        "id": "XCHekROY7_1P"
      },
      "execution_count": null,
      "outputs": []
    },
    {
      "cell_type": "code",
      "source": [
        "# score + ranking\n",
        "'''\n",
        "https://www.kaggle.com/code/mzaoualim/kaggle-icr\n",
        "'''"
      ],
      "metadata": {
        "id": "E_hqV2FzM03D"
      },
      "execution_count": null,
      "outputs": []
    },
    {
      "cell_type": "markdown",
      "source": [
        "# Conclusion"
      ],
      "metadata": {
        "id": "ZlI3rRS0B1We"
      }
    },
    {
      "cell_type": "markdown",
      "source": [
        "For future implementation, the following suggestions are to be considered for better scoring results:\n",
        "\n",
        "1- Coding a customized loss function similar to the one targetted by the competition and train the model according to its outputs.\n",
        "\n",
        "2- More sphistication with Data augmenting and balancing the target variable.\n",
        "\n",
        "3- More attention to the 'greeks.csv' file.\n",
        "\n",
        "4- Additionnal model can be considered in a stacking/voting architecture.\n",
        "\n",
        "5- Experiment/finetunning the model(s) parameters.\n",
        "\n",
        "6- More attention to the error/loss distributions."
      ],
      "metadata": {
        "id": "ZGJB9qCAM7yi"
      }
    }
  ]
}