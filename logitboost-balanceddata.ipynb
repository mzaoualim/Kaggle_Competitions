{
 "cells": [
  {
   "cell_type": "code",
   "execution_count": 1,
   "metadata": {
    "_cell_guid": "b1076dfc-b9ad-4769-8c92-a6c4dae69d19",
    "_uuid": "8f2839f25d086af736a60e9eeb907d3b93b6e0e5",
    "execution": {
     "iopub.execute_input": "2020-11-15T06:24:29.835617Z",
     "iopub.status.busy": "2020-11-15T06:24:29.834835Z",
     "iopub.status.idle": "2020-11-15T06:24:29.841703Z",
     "shell.execute_reply": "2020-11-15T06:24:29.841143Z"
    },
    "papermill": {
     "duration": 0.021793,
     "end_time": "2020-11-15T06:24:29.841807",
     "exception": false,
     "start_time": "2020-11-15T06:24:29.820014",
     "status": "completed"
    },
    "tags": []
   },
   "outputs": [
    {
     "name": "stdout",
     "output_type": "stream",
     "text": [
      "/kaggle/input/creditcardfraud/creditcard.csv\n"
     ]
    }
   ],
   "source": [
    "# This Python 3 environment comes with many helpful analytics libraries installed\n",
    "# It is defined by the kaggle/python Docker image: https://github.com/kaggle/docker-python\n",
    "# For example, here's several helpful packages to load\n",
    "\n",
    "import numpy as np # linear algebra\n",
    "import pandas as pd # data processing, CSV file I/O (e.g. pd.read_csv)\n",
    "\n",
    "# Input data files are available in the read-only \"../input/\" directory\n",
    "# For example, running this (by clicking run or pressing Shift+Enter) will list all files under the input directory\n",
    "\n",
    "import os\n",
    "for dirname, _, filenames in os.walk('/kaggle/input'):\n",
    "    for filename in filenames:\n",
    "        print(os.path.join(dirname, filename))\n",
    "\n",
    "# You can write up to 20GB to the current directory (/kaggle/working/) that gets preserved as output when you create a version using \"Save & Run All\" \n",
    "# You can also write temporary files to /kaggle/temp/, but they won't be saved outside of the current session"
   ]
  },
  {
   "cell_type": "code",
   "execution_count": 2,
   "metadata": {
    "execution": {
     "iopub.execute_input": "2020-11-15T06:24:29.862947Z",
     "iopub.status.busy": "2020-11-15T06:24:29.862121Z",
     "iopub.status.idle": "2020-11-15T06:24:29.864793Z",
     "shell.execute_reply": "2020-11-15T06:24:29.865321Z"
    },
    "papermill": {
     "duration": 0.013788,
     "end_time": "2020-11-15T06:24:29.865463",
     "exception": false,
     "start_time": "2020-11-15T06:24:29.851675",
     "status": "completed"
    },
    "tags": []
   },
   "outputs": [],
   "source": [
    "#Credit to:\n",
    "#https://logitboost.readthedocs.io/examples/Breast_Cancer.html\n",
    "#https://www.kaggle.com/meryemeerrkik/credit-fraud-recall-98\n"
   ]
  },
  {
   "cell_type": "code",
   "execution_count": 3,
   "metadata": {
    "execution": {
     "iopub.execute_input": "2020-11-15T06:24:29.888204Z",
     "iopub.status.busy": "2020-11-15T06:24:29.887441Z",
     "iopub.status.idle": "2020-11-15T06:24:42.502715Z",
     "shell.execute_reply": "2020-11-15T06:24:42.501989Z"
    },
    "papermill": {
     "duration": 12.629614,
     "end_time": "2020-11-15T06:24:42.502852",
     "exception": false,
     "start_time": "2020-11-15T06:24:29.873238",
     "status": "completed"
    },
    "tags": []
   },
   "outputs": [
    {
     "name": "stdout",
     "output_type": "stream",
     "text": [
      "Collecting logitboost\r\n",
      "  Downloading logitboost-0.7-py3-none-any.whl (9.1 kB)\r\n",
      "Requirement already satisfied: numpy in /opt/conda/lib/python3.7/site-packages (from logitboost) (1.18.5)\r\n",
      "Requirement already satisfied: scipy in /opt/conda/lib/python3.7/site-packages (from logitboost) (1.4.1)\r\n",
      "Requirement already satisfied: scikit-learn in /opt/conda/lib/python3.7/site-packages (from logitboost) (0.23.2)\r\n",
      "Requirement already satisfied: threadpoolctl>=2.0.0 in /opt/conda/lib/python3.7/site-packages (from scikit-learn->logitboost) (2.1.0)\r\n",
      "Requirement already satisfied: joblib>=0.11 in /opt/conda/lib/python3.7/site-packages (from scikit-learn->logitboost) (0.14.1)\r\n",
      "Installing collected packages: logitboost\r\n",
      "Successfully installed logitboost-0.7\r\n"
     ]
    }
   ],
   "source": [
    "#Importing libraries\n",
    "import numpy as np\n",
    "import pandas as pd\n",
    "from sklearn.preprocessing import StandardScaler, scale\n",
    "from sklearn.model_selection import train_test_split, cross_validate\n",
    "!pip install logitboost\n",
    "from logitboost import LogitBoost\n",
    "from sklearn.metrics import accuracy_score, classification_report"
   ]
  },
  {
   "cell_type": "code",
   "execution_count": 4,
   "metadata": {
    "_cell_guid": "79c7e3d0-c299-4dcb-8224-4455121ee9b0",
    "_uuid": "d629ff2d2480ee46fbb7e2d37f6b5fab8052498a",
    "execution": {
     "iopub.execute_input": "2020-11-15T06:24:42.530815Z",
     "iopub.status.busy": "2020-11-15T06:24:42.530082Z",
     "iopub.status.idle": "2020-11-15T06:24:45.069560Z",
     "shell.execute_reply": "2020-11-15T06:24:45.068414Z"
    },
    "papermill": {
     "duration": 2.555871,
     "end_time": "2020-11-15T06:24:45.069719",
     "exception": false,
     "start_time": "2020-11-15T06:24:42.513848",
     "status": "completed"
    },
    "tags": []
   },
   "outputs": [],
   "source": [
    "# Reading data\n",
    "df = pd.read_csv(\"../input/creditcardfraud/creditcard.csv\")"
   ]
  },
  {
   "cell_type": "code",
   "execution_count": 5,
   "metadata": {
    "execution": {
     "iopub.execute_input": "2020-11-15T06:24:45.113962Z",
     "iopub.status.busy": "2020-11-15T06:24:45.113065Z",
     "iopub.status.idle": "2020-11-15T06:24:45.244187Z",
     "shell.execute_reply": "2020-11-15T06:24:45.245475Z"
    },
    "papermill": {
     "duration": 0.16056,
     "end_time": "2020-11-15T06:24:45.245668",
     "exception": false,
     "start_time": "2020-11-15T06:24:45.085108",
     "status": "completed"
    },
    "tags": []
   },
   "outputs": [],
   "source": [
    "\n",
    "# Defining X & y\n",
    "\n",
    "df['Amount'] = scale(df['Amount'])\n",
    "\n",
    "##Handle Imbalanced Data\n",
    "#1. Find the number of the minority class\n",
    "number_fraud = len(df[df['Class']==1])\n",
    "number_non_fraud = len(df[df['Class']==0])\n",
    "#2. Find the indices of the majority class\n",
    "index_non_fraud = df[df['Class']==0].index\n",
    "#.3 Find the indices of the minority class\n",
    "index_fraud = df[df['Class']==1].index\n",
    "#4. Randomly sample the majority indices with respect to the number of minority classes\n",
    "random_indices = np.random.choice(index_non_fraud, number_fraud,replace='False')\n",
    "len(random_indices)\n",
    "#5. Concat the minority indices with the indices from step 4\n",
    "under_sample_indices = np.concatenate([index_fraud,random_indices])\n",
    "#Get the balanced dataframe - This is the final undersampled data\n",
    "under_sample_df = df.iloc[under_sample_indices]\n",
    "under_sample_class_counts = pd.value_counts(under_sample_df['Class'])\n",
    "# dividing the X and the Y from the dataset \n",
    "X = under_sample_df.drop(['Class'], axis = 1) \n",
    "y= under_sample_df[\"Class\"]\n"
   ]
  },
  {
   "cell_type": "code",
   "execution_count": 6,
   "metadata": {
    "execution": {
     "iopub.execute_input": "2020-11-15T06:24:45.282465Z",
     "iopub.status.busy": "2020-11-15T06:24:45.281553Z",
     "iopub.status.idle": "2020-11-15T06:24:45.285546Z",
     "shell.execute_reply": "2020-11-15T06:24:45.286302Z"
    },
    "papermill": {
     "duration": 0.026065,
     "end_time": "2020-11-15T06:24:45.286476",
     "exception": false,
     "start_time": "2020-11-15T06:24:45.260411",
     "status": "completed"
    },
    "tags": []
   },
   "outputs": [],
   "source": [
    "#Spliting 80/20 train test\n",
    "X_train, X_test, y_train, y_test = train_test_split(X, y, test_size=0.20)"
   ]
  },
  {
   "cell_type": "code",
   "execution_count": 7,
   "metadata": {
    "execution": {
     "iopub.execute_input": "2020-11-15T06:24:45.334681Z",
     "iopub.status.busy": "2020-11-15T06:24:45.333790Z",
     "iopub.status.idle": "2020-11-15T06:24:46.319784Z",
     "shell.execute_reply": "2020-11-15T06:24:46.318684Z"
    },
    "papermill": {
     "duration": 1.012306,
     "end_time": "2020-11-15T06:24:46.319905",
     "exception": false,
     "start_time": "2020-11-15T06:24:45.307599",
     "status": "completed"
    },
    "tags": []
   },
   "outputs": [
    {
     "data": {
      "text/plain": [
       "LogitBoost(learning_rate=1, n_estimators=200)"
      ]
     },
     "execution_count": 7,
     "metadata": {},
     "output_type": "execute_result"
    }
   ],
   "source": [
    "#fitting the model [LogitBoost]\n",
    "\n",
    "lboost = LogitBoost(n_estimators= 200, learning_rate = 1)\n",
    "lboost.fit(X_train, y_train)"
   ]
  },
  {
   "cell_type": "code",
   "execution_count": 8,
   "metadata": {
    "execution": {
     "iopub.execute_input": "2020-11-15T06:24:46.357453Z",
     "iopub.status.busy": "2020-11-15T06:24:46.355041Z",
     "iopub.status.idle": "2020-11-15T06:24:47.137993Z",
     "shell.execute_reply": "2020-11-15T06:24:47.137011Z"
    },
    "papermill": {
     "duration": 0.806925,
     "end_time": "2020-11-15T06:24:47.138188",
     "exception": false,
     "start_time": "2020-11-15T06:24:46.331263",
     "status": "completed"
    },
    "tags": []
   },
   "outputs": [
    {
     "name": "stdout",
     "output_type": "stream",
     "text": [
      "Training accuracy: 0.9936\n",
      "Test accuracy:     0.9289\n",
      "Training\n",
      "              precision    recall  f1-score   support\n",
      "\n",
      "           0       0.99      1.00      0.99       383\n",
      "           1       1.00      0.99      0.99       404\n",
      "\n",
      "    accuracy                           0.99       787\n",
      "   macro avg       0.99      0.99      0.99       787\n",
      "weighted avg       0.99      0.99      0.99       787\n",
      "\n",
      "Testing\n",
      "              precision    recall  f1-score   support\n",
      "\n",
      "           0       0.94      0.93      0.94       109\n",
      "           1       0.91      0.93      0.92        88\n",
      "\n",
      "    accuracy                           0.93       197\n",
      "   macro avg       0.93      0.93      0.93       197\n",
      "weighted avg       0.93      0.93      0.93       197\n",
      "\n"
     ]
    }
   ],
   "source": [
    "#Predicting\n",
    "y_pred_train = lboost.predict(X_train)\n",
    "y_pred_test = lboost.predict(X_test)\n",
    "\n",
    "#Assessing the scores\n",
    "accuracy_train = accuracy_score(y_train, y_pred_train)\n",
    "accuracy_test = accuracy_score(y_test, y_pred_test)\n",
    "\n",
    "print('Training accuracy: %.4f' % accuracy_train)\n",
    "print('Test accuracy:     %.4f' % accuracy_test)\n",
    "\n",
    "report_train = classification_report(y_train, y_pred_train)\n",
    "report_test = classification_report(y_test, y_pred_test)\n",
    "print('Training\\n%s' % report_train)\n",
    "print('Testing\\n%s' % report_test)"
   ]
  }
 ],
 "metadata": {
  "kernelspec": {
   "display_name": "Python 3",
   "language": "python",
   "name": "python3"
  },
  "language_info": {
   "codemirror_mode": {
    "name": "ipython",
    "version": 3
   },
   "file_extension": ".py",
   "mimetype": "text/x-python",
   "name": "python",
   "nbconvert_exporter": "python",
   "pygments_lexer": "ipython3",
   "version": "3.7.6"
  },
  "papermill": {
   "duration": 22.034174,
   "end_time": "2020-11-15T06:24:47.258701",
   "environment_variables": {},
   "exception": null,
   "input_path": "__notebook__.ipynb",
   "output_path": "__notebook__.ipynb",
   "parameters": {},
   "start_time": "2020-11-15T06:24:25.224527",
   "version": "2.1.0"
  }
 },
 "nbformat": 4,
 "nbformat_minor": 4
}
